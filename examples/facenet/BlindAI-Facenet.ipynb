{
 "cells": [
  {
   "cell_type": "markdown",
   "id": "463e6024",
   "metadata": {},
   "source": [
    "# About this example\n",
    "\n",
    "This example shows how you can run a Facenet model to perform Facial Recognition with confidentiality guarantees. \n",
    "\n",
    "By using BlindAI, people can send data for the AI to analyze their biometric data without having to fear privacy leaks.\n",
    "\n",
    "Facenet is a state-of-the art ResNet model for Facial Recogntion. You can learn more about it on [Facenet repository](https://github.com/timesler/facenet-pytorch)."
   ]
  },
  {
   "cell_type": "markdown",
   "id": "3962be97",
   "metadata": {},
   "source": [
    "# Installing dependencies"
   ]
  },
  {
   "cell_type": "markdown",
   "id": "cbda973b",
   "metadata": {},
   "source": [
    "Install the dependencies this example needs."
   ]
  },
  {
   "cell_type": "code",
   "execution_count": null,
   "id": "e78255e4",
   "metadata": {},
   "outputs": [],
   "source": [
    "!pip install -q transformers[onnx] torch"
   ]
  },
  {
   "cell_type": "markdown",
   "id": "2889651b",
   "metadata": {},
   "source": [
    "Install the Facenet-pytorch library."
   ]
  },
  {
   "cell_type": "code",
   "execution_count": null,
   "id": "43829608",
   "metadata": {},
   "outputs": [],
   "source": [
    "!pip install facenet-pytorch"
   ]
  },
  {
   "cell_type": "markdown",
   "id": "8bd99a83",
   "metadata": {},
   "source": [
    "Install the latest version of BlindAI."
   ]
  },
  {
   "cell_type": "code",
   "execution_count": null,
   "id": "02339f36",
   "metadata": {},
   "outputs": [],
   "source": [
    "!pip install blindai"
   ]
  },
  {
   "cell_type": "markdown",
   "id": "2efa298c",
   "metadata": {},
   "source": [
    "# Preparing the model"
   ]
  },
  {
   "cell_type": "markdown",
   "id": "bef1bc79",
   "metadata": {},
   "source": [
    "The first step here is to prepare the model to perform facial recognition. \n",
    "\n",
    "To make it simpler, we will do an example where we will hardcode the database of biometric templates in the neural network itself. This works if the database of people to identify is fixed. For more dynamic workload, BlindAI can be adapted to suit this use case but we will not cover it here"
   ]
  },
  {
   "cell_type": "markdown",
   "id": "68fd5b71",
   "metadata": {},
   "source": [
    "First we load the pretrained Facenet model."
   ]
  },
  {
   "cell_type": "code",
   "execution_count": null,
   "id": "f7fdf9e6",
   "metadata": {},
   "outputs": [],
   "source": [
    "from facenet_pytorch import InceptionResnetV1\n",
    "import torch\n",
    "\n",
    "resnet = InceptionResnetV1(pretrained='vggface2').eval()"
   ]
  },
  {
   "cell_type": "markdown",
   "id": "48299a01",
   "metadata": {},
   "source": [
    "We then download the people that will serve as our biometric database. The goal here is to use a neural network to see if a new person to be identified belongs to one of the three people registered."
   ]
  },
  {
   "cell_type": "code",
   "execution_count": null,
   "id": "3494e052",
   "metadata": {},
   "outputs": [],
   "source": [
    "!wget https://raw.githubusercontent.com/mithril-security/blindai/master/examples/facenet/woman_0.jpg\n",
    "!wget https://raw.githubusercontent.com/mithril-security/blindai/master/examples/facenet/woman_1.jpg\n",
    "!wget https://raw.githubusercontent.com/mithril-security/blindai/master/examples/facenet/woman_2.jpg"
   ]
  },
  {
   "cell_type": "markdown",
   "id": "ad0345f0",
   "metadata": {},
   "source": [
    "We can have a look at our dataset. "
   ]
  },
  {
   "cell_type": "code",
   "execution_count": null,
   "id": "54cc2fc6",
   "metadata": {},
   "outputs": [],
   "source": [
    "from PIL import Image\n",
    "from IPython.display import display\n",
    "\n",
    "files = [f\"woman_{i}.jpg\" for i in range(3)]\n",
    "\n",
    "display(Image.open(files[0]), Image.open(files[1]), Image.open(files[2]))"
   ]
  },
  {
   "cell_type": "markdown",
   "id": "a6b7a98b",
   "metadata": {},
   "source": [
    "Here we will do the enrollment phase, i.e. extract a template from each person, and store it. Those templates will be used as references to compute a similarity score when someone new comes in to be identified."
   ]
  },
  {
   "cell_type": "code",
   "execution_count": null,
   "id": "dd2fd2c2",
   "metadata": {},
   "outputs": [],
   "source": [
    "import numpy as np\n",
    "\n",
    "embeddings = []\n",
    "\n",
    "for file in files:\n",
    "    # We open each file and preprocess it\n",
    "    im = Image.open(file)\n",
    "    im = torch.tensor(np.asarray(im)).permute(2,0,1).unsqueeze(0) / 128.0 - 1\n",
    "    \n",
    "    # We make the tensor go through the ResNet to extract a template\n",
    "    embedding = resnet(im)\n",
    "    embeddings.append(embedding.squeeze(0))\n",
    "    \n",
    "# We stack everything in a matrix\n",
    "embeddings = torch.stack(embeddings)"
   ]
  },
  {
   "cell_type": "markdown",
   "id": "8b9e6466",
   "metadata": {},
   "source": [
    "Because the scoring will be done through a dot product of a new candidate template with the registered templates, we can implement this scoring as a matrix multiplication between the registered tempalte and the new template:"
   ]
  },
  {
   "cell_type": "code",
   "execution_count": null,
   "id": "a2ef9ee3",
   "metadata": {},
   "outputs": [],
   "source": [
    "import torch.nn as nn\n",
    "\n",
    "# Create the scoring layer with a matrix multiplication\n",
    "scoring_layer = nn.Linear(512, 3, bias=False)\n",
    "\n",
    "# Store the computed embeddings inside\n",
    "scoring_layer.weight.data = embeddings\n",
    "\n",
    "full_network = nn.Sequential(\n",
    "    resnet,\n",
    "    scoring_layer\n",
    ")"
   ]
  },
  {
   "cell_type": "markdown",
   "id": "7ad40ef9",
   "metadata": {},
   "source": [
    "Before sending our model to BlindAI, we will how it performs in practice.\n",
    "\n",
    "Let's download a test set, containing a different picture of the second woman we registered."
   ]
  },
  {
   "cell_type": "code",
   "execution_count": null,
   "id": "a480e5a5",
   "metadata": {
    "scrolled": true
   },
   "outputs": [],
   "source": [
    "!wget https://raw.githubusercontent.com/mithril-security/blindai/master/examples/facenet/woman_test.jpg"
   ]
  },
  {
   "cell_type": "markdown",
   "id": "aa24bbc5",
   "metadata": {},
   "source": [
    "We can see below that the two pictures are indeed from the same person."
   ]
  },
  {
   "cell_type": "code",
   "execution_count": null,
   "id": "031831fe",
   "metadata": {},
   "outputs": [],
   "source": [
    "test_im = Image.open(\"woman_test.jpg\")\n",
    "display(test_im, Image.open(\"woman_1.jpg\"))"
   ]
  },
  {
   "cell_type": "markdown",
   "id": "f56f42b5",
   "metadata": {},
   "source": [
    "We can now apply our full network, which will extract a template from the test image, and compute a dot product between the new templates and the registered templates."
   ]
  },
  {
   "cell_type": "code",
   "execution_count": null,
   "id": "42f55849",
   "metadata": {},
   "outputs": [],
   "source": [
    "test_im = torch.tensor(np.asarray(test_im)).permute(2,0,1).unsqueeze(0) / 128.0 - 1\n",
    "\n",
    "scores = full_network(test_im)"
   ]
  },
  {
   "cell_type": "markdown",
   "id": "c3ea6b8a",
   "metadata": {},
   "source": [
    "We can see that the scores reflect the truth: the dot product of the embeddings of the test image with the first and third women are low, while the score is high with the second woman. This makes sense, as the neural network was trained to provide a high score for pictures of the same person, and make the score low for different people."
   ]
  },
  {
   "cell_type": "code",
   "execution_count": null,
   "id": "3a3833d4",
   "metadata": {},
   "outputs": [],
   "source": [
    "scores"
   ]
  },
  {
   "cell_type": "markdown",
   "id": "c012be8b",
   "metadata": {},
   "source": [
    "Now we can export the model to be fed to BlindAI to deploy it with privacy guarantees."
   ]
  },
  {
   "cell_type": "code",
   "execution_count": null,
   "id": "988ecc9e",
   "metadata": {},
   "outputs": [],
   "source": [
    "torch.onnx.export(full_network,               # model being run\n",
    "                  test_im,                         # model input (or a tuple for multiple inputs)\n",
    "                  \"facenet.onnx\",   # where to save the model (can be a file or file-like object)\n",
    "                  export_params=True,        # store the trained parameter weights inside the model file\n",
    ")"
   ]
  },
  {
   "cell_type": "markdown",
   "id": "8919ccb5",
   "metadata": {},
   "source": [
    "# Deployment on BlindAI"
   ]
  },
  {
   "cell_type": "markdown",
   "id": "ed2366fb",
   "metadata": {},
   "source": [
    "Please make sure the **server is running**. To launch the server, refer to the [Launching the server](https://docs.mithrilsecurity.io/getting-started/quick-start/run-the-blindai-server) documentation page. \n",
    "\n",
    "If you have followed the steps and have the Docker image ready, this mean you simply have to run `docker run -it -p 50051:50051 -p 50052:50052 mithrilsecuritysas/blindai-server-sim:latest`"
   ]
  },
  {
   "cell_type": "markdown",
   "id": "80fc49a9",
   "metadata": {},
   "source": [
    "So the first thing we need to do is to connect securely to the BlindAI server instance. Here we will use simulation mode for ease of use. This means that we do not leverage the hardware security propertiers of secure enclaves, but we do not need to run the Docker image with a specific hardware.\n",
    "\n",
    "If you wish to run this example in hardware mode, you need to prepare the `host_server.pem` and `policy.toml` files. Learn more on the [Deploy on Hardware](https://docs.mithrilsecurity.io/getting-started/deploy-on-hardware) documentation page. "
   ]
  },
  {
   "cell_type": "code",
   "execution_count": null,
   "id": "155ddc68",
   "metadata": {},
   "outputs": [],
   "source": [
    "from blindai.client import BlindAiClient, ModelDatumType\n",
    "\n",
    "# Launch client\n",
    "client = BlindAiClient()\n",
    "\n",
    "# Simulation mode\n",
    "client.connect_server(addr=\"localhost\", simulation=True)\n",
    "\n",
    "# Hardware mode\n",
    "# client.connect_server(addr=\"localhost\", policy=\"./policy.toml\", certificate=\"./host_server.pem\")"
   ]
  },
  {
   "cell_type": "markdown",
   "id": "889d5725",
   "metadata": {},
   "source": [
    "Then, upload the model inside the BlindAI server. This simply means uploading the ONNX file created before.\n",
    "\n",
    "When uploading the model, we have to precise the shape of the input and the data type. \n",
    "\n",
    "In this case, because we use a ResNet model, we will need to send floats for the facial data. As the outputs are scores, we will accept floats as well for output."
   ]
  },
  {
   "cell_type": "code",
   "execution_count": null,
   "id": "48f605f7",
   "metadata": {},
   "outputs": [],
   "source": [
    "response = client.upload_model(model=\"./facenet.onnx\", shape=test_im.shape,\n",
    "                    dtype=ModelDatumType.F32, dtype_out=ModelDatumType.F32)\n",
    "model_id = response.model_id"
   ]
  },
  {
   "cell_type": "markdown",
   "id": "501791e6",
   "metadata": {},
   "source": [
    "# Sending data for confidential prediction"
   ]
  },
  {
   "cell_type": "markdown",
   "id": "a3896eb0",
   "metadata": {},
   "source": [
    "Now it's time to check it's working live!\n",
    "\n",
    "We will just prepare some input for the model inside the secure enclave of BlindAI to process it."
   ]
  },
  {
   "cell_type": "markdown",
   "id": "a56eb415",
   "metadata": {},
   "source": [
    "First we prepare our input data, the test image we used before."
   ]
  },
  {
   "cell_type": "code",
   "execution_count": null,
   "id": "15799bf0",
   "metadata": {},
   "outputs": [],
   "source": [
    "from PIL import Image\n",
    "import torch\n",
    "\n",
    "test_im = Image.open(\"woman_test.jpg\")\n",
    "test_im = torch.tensor(np.asarray(test_im)).permute(2,0,1).unsqueeze(0) / 128.0 - 1"
   ]
  },
  {
   "cell_type": "markdown",
   "id": "cb73769b",
   "metadata": {},
   "source": [
    "Now we can send the audio data to be processed confidentially!"
   ]
  },
  {
   "cell_type": "code",
   "execution_count": null,
   "id": "5b48baf1",
   "metadata": {},
   "outputs": [],
   "source": [
    "response = client.run_model(model_id, test_im.flatten().tolist())"
   ]
  },
  {
   "cell_type": "markdown",
   "id": "0ea276d7",
   "metadata": {},
   "source": [
    "As we can see below, the results are quite similar from the regular inference."
   ]
  },
  {
   "cell_type": "code",
   "execution_count": null,
   "id": "f43c74dd",
   "metadata": {},
   "outputs": [],
   "source": [
    "response.output"
   ]
  },
  {
   "cell_type": "markdown",
   "id": "ee978593",
   "metadata": {},
   "source": [
    "Et voila! We have been able to apply a start of the art model for facial recognition, without ever having to show the data in clear to the people operating the service!\n",
    "\n",
    "If you have liked this example, do not hesitate to drop a star on our [GitHub](https://github.com/mithril-security/blindai) and chat with us on our [Discord](https://discord.gg/TxEHagpWd4)!"
   ]
  }
 ],
 "metadata": {
  "interpreter": {
   "hash": "a5388ad2301bd502d89111dcdf0be4de1267e42deee031a75c954f6a954bbfcf"
  },
  "kernelspec": {
   "display_name": "Python 3.8.10 ('env': venv)",
   "language": "python",
   "name": "python3"
  },
  "language_info": {
   "codemirror_mode": {
    "name": "ipython",
    "version": 3
   },
   "file_extension": ".py",
   "mimetype": "text/x-python",
   "name": "python",
   "nbconvert_exporter": "python",
   "pygments_lexer": "ipython3"
  }
 },
 "nbformat": 4,
 "nbformat_minor": 5
}
