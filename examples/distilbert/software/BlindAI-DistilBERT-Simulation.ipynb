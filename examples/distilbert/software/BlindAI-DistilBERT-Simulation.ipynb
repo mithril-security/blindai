{
 "cells": [
  {
   "cell_type": "markdown",
   "id": "334419ad",
   "metadata": {},
   "source": [
    "# Install dependencies"
   ]
  },
  {
   "cell_type": "code",
   "execution_count": 1,
   "id": "6625af10",
   "metadata": {},
   "outputs": [
    {
     "name": "stdout",
     "output_type": "stream",
     "text": [
      "/usr/lib/python3/dist-packages/secretstorage/dhcrypto.py:15: CryptographyDeprecationWarning: int_from_bytes is deprecated, use int.from_bytes instead\n",
      "  from cryptography.utils import int_from_bytes\n",
      "/usr/lib/python3/dist-packages/secretstorage/util.py:19: CryptographyDeprecationWarning: int_from_bytes is deprecated, use int.from_bytes instead\n",
      "  from cryptography.utils import int_from_bytes\n",
      "Requirement already satisfied: transformers[onnx] in /home/dhuynh/.local/lib/python3.8/site-packages (4.16.2)\n",
      "Requirement already satisfied: tokenizers!=0.11.3,>=0.10.1 in /home/dhuynh/.local/lib/python3.8/site-packages (from transformers[onnx]) (0.11.4)\n",
      "Requirement already satisfied: numpy>=1.17 in /home/dhuynh/.local/lib/python3.8/site-packages (from transformers[onnx]) (1.22.2)\n",
      "Requirement already satisfied: requests in /usr/lib/python3/dist-packages (from transformers[onnx]) (2.22.0)\n",
      "Requirement already satisfied: filelock in /home/dhuynh/.local/lib/python3.8/site-packages (from transformers[onnx]) (3.4.2)\n",
      "Requirement already satisfied: huggingface-hub<1.0,>=0.1.0 in /home/dhuynh/.local/lib/python3.8/site-packages (from transformers[onnx]) (0.4.0)\n",
      "Requirement already satisfied: sacremoses in /home/dhuynh/.local/lib/python3.8/site-packages (from transformers[onnx]) (0.0.47)\n",
      "Requirement already satisfied: pyyaml>=5.1 in /usr/lib/python3/dist-packages (from transformers[onnx]) (5.3.1)\n",
      "Requirement already satisfied: regex!=2019.12.17 in /home/dhuynh/.local/lib/python3.8/site-packages (from transformers[onnx]) (2022.1.18)\n",
      "Requirement already satisfied: tqdm>=4.27 in /home/dhuynh/.local/lib/python3.8/site-packages (from transformers[onnx]) (4.62.3)\n",
      "Requirement already satisfied: packaging>=20.0 in /home/dhuynh/.local/lib/python3.8/site-packages (from transformers[onnx]) (21.3)\n",
      "Requirement already satisfied: onnxruntime>=1.4.0; extra == \"onnx\" in /home/dhuynh/.local/lib/python3.8/site-packages (from transformers[onnx]) (1.10.0)\n",
      "Requirement already satisfied: onnxruntime-tools>=1.4.2; extra == \"onnx\" in /home/dhuynh/.local/lib/python3.8/site-packages (from transformers[onnx]) (1.7.0)\n",
      "Requirement already satisfied: tf2onnx; extra == \"onnx\" in /home/dhuynh/.local/lib/python3.8/site-packages (from transformers[onnx]) (1.9.3)\n",
      "Requirement already satisfied: onnxconverter-common; extra == \"onnx\" in /home/dhuynh/.local/lib/python3.8/site-packages (from transformers[onnx]) (1.9.0)\n",
      "Requirement already satisfied: typing-extensions>=3.7.4.3 in /home/dhuynh/.local/lib/python3.8/site-packages (from huggingface-hub<1.0,>=0.1.0->transformers[onnx]) (4.0.1)\n",
      "Requirement already satisfied: click in /home/dhuynh/.local/lib/python3.8/site-packages (from sacremoses->transformers[onnx]) (8.0.3)\n",
      "Requirement already satisfied: six in /usr/lib/python3/dist-packages (from sacremoses->transformers[onnx]) (1.14.0)\n",
      "Requirement already satisfied: joblib in /home/dhuynh/.local/lib/python3.8/site-packages (from sacremoses->transformers[onnx]) (1.1.0)\n",
      "Requirement already satisfied: pyparsing!=3.0.5,>=2.0.2 in /home/dhuynh/.local/lib/python3.8/site-packages (from packaging>=20.0->transformers[onnx]) (3.0.7)\n",
      "Requirement already satisfied: flatbuffers in /home/dhuynh/.local/lib/python3.8/site-packages (from onnxruntime>=1.4.0; extra == \"onnx\"->transformers[onnx]) (1.12)\n",
      "Requirement already satisfied: protobuf in /home/dhuynh/.local/lib/python3.8/site-packages (from onnxruntime>=1.4.0; extra == \"onnx\"->transformers[onnx]) (3.19.4)\n",
      "Requirement already satisfied: py3nvml in /home/dhuynh/.local/lib/python3.8/site-packages (from onnxruntime-tools>=1.4.2; extra == \"onnx\"->transformers[onnx]) (0.2.7)\n",
      "Requirement already satisfied: coloredlogs in /home/dhuynh/.local/lib/python3.8/site-packages (from onnxruntime-tools>=1.4.2; extra == \"onnx\"->transformers[onnx]) (15.0.1)\n",
      "Requirement already satisfied: py-cpuinfo in /home/dhuynh/.local/lib/python3.8/site-packages (from onnxruntime-tools>=1.4.2; extra == \"onnx\"->transformers[onnx]) (8.0.0)\n",
      "Requirement already satisfied: onnx in /home/dhuynh/.local/lib/python3.8/site-packages (from onnxruntime-tools>=1.4.2; extra == \"onnx\"->transformers[onnx]) (1.10.2)\n",
      "Requirement already satisfied: psutil in /home/dhuynh/.local/lib/python3.8/site-packages (from onnxruntime-tools>=1.4.2; extra == \"onnx\"->transformers[onnx]) (5.9.0)\n",
      "Requirement already satisfied: xmltodict in /home/dhuynh/.local/lib/python3.8/site-packages (from py3nvml->onnxruntime-tools>=1.4.2; extra == \"onnx\"->transformers[onnx]) (0.12.0)\n",
      "Requirement already satisfied: humanfriendly>=9.1 in /home/dhuynh/.local/lib/python3.8/site-packages (from coloredlogs->onnxruntime-tools>=1.4.2; extra == \"onnx\"->transformers[onnx]) (10.0)\n"
     ]
    }
   ],
   "source": [
    "!pip install transformers[onnx]"
   ]
  },
  {
   "cell_type": "code",
   "execution_count": 2,
   "id": "4bc9033d",
   "metadata": {},
   "outputs": [
    {
     "name": "stdout",
     "output_type": "stream",
     "text": [
      "/usr/lib/python3/dist-packages/secretstorage/dhcrypto.py:15: CryptographyDeprecationWarning: int_from_bytes is deprecated, use int.from_bytes instead\n",
      "  from cryptography.utils import int_from_bytes\n",
      "/usr/lib/python3/dist-packages/secretstorage/util.py:19: CryptographyDeprecationWarning: int_from_bytes is deprecated, use int.from_bytes instead\n",
      "  from cryptography.utils import int_from_bytes\n",
      "Requirement already satisfied: blindai in /home/dhuynh/.local/lib/python3.8/site-packages (0.1.0)\n",
      "Requirement already satisfied: cryptography>=35.0.0 in /home/dhuynh/.local/lib/python3.8/site-packages (from blindai) (36.0.1)\n",
      "Requirement already satisfied: bitstring in /home/dhuynh/.local/lib/python3.8/site-packages (from blindai) (3.1.9)\n",
      "Requirement already satisfied: cbor2 in /home/dhuynh/.local/lib/python3.8/site-packages (from blindai) (5.4.2.post1)\n",
      "Requirement already satisfied: grpcio-tools in /home/dhuynh/.local/lib/python3.8/site-packages (from blindai) (1.43.0)\n",
      "Requirement already satisfied: grpcio in /home/dhuynh/.local/lib/python3.8/site-packages (from blindai) (1.43.0)\n",
      "Requirement already satisfied: toml in /home/dhuynh/.local/lib/python3.8/site-packages (from blindai) (0.10.2)\n",
      "Requirement already satisfied: cffi>=1.12 in /home/dhuynh/.local/lib/python3.8/site-packages (from cryptography>=35.0.0->blindai) (1.15.0)\n",
      "Requirement already satisfied: protobuf<4.0dev,>=3.5.0.post1 in /home/dhuynh/.local/lib/python3.8/site-packages (from grpcio-tools->blindai) (3.19.4)\n",
      "Requirement already satisfied: setuptools in /usr/lib/python3/dist-packages (from grpcio-tools->blindai) (45.2.0)\n",
      "Requirement already satisfied: six>=1.5.2 in /usr/lib/python3/dist-packages (from grpcio->blindai) (1.14.0)\n",
      "Requirement already satisfied: pycparser in /home/dhuynh/.local/lib/python3.8/site-packages (from cffi>=1.12->cryptography>=35.0.0->blindai) (2.21)\n"
     ]
    }
   ],
   "source": [
    "!pip install blindai"
   ]
  },
  {
   "cell_type": "markdown",
   "id": "553770d3",
   "metadata": {},
   "source": [
    "# Load the model"
   ]
  },
  {
   "cell_type": "code",
   "execution_count": 2,
   "id": "f7cac160",
   "metadata": {},
   "outputs": [
    {
     "name": "stderr",
     "output_type": "stream",
     "text": [
      "Some weights of the model checkpoint at distilbert-base-uncased were not used when initializing DistilBertForSequenceClassification: ['vocab_layer_norm.weight', 'vocab_transform.weight', 'vocab_transform.bias', 'vocab_projector.bias', 'vocab_layer_norm.bias', 'vocab_projector.weight']\n",
      "- This IS expected if you are initializing DistilBertForSequenceClassification from the checkpoint of a model trained on another task or with another architecture (e.g. initializing a BertForSequenceClassification model from a BertForPreTraining model).\n",
      "- This IS NOT expected if you are initializing DistilBertForSequenceClassification from the checkpoint of a model that you expect to be exactly identical (initializing a BertForSequenceClassification model from a BertForSequenceClassification model).\n",
      "Some weights of DistilBertForSequenceClassification were not initialized from the model checkpoint at distilbert-base-uncased and are newly initialized: ['pre_classifier.weight', 'pre_classifier.bias', 'classifier.weight', 'classifier.bias']\n",
      "You should probably TRAIN this model on a down-stream task to be able to use it for predictions and inference.\n"
     ]
    }
   ],
   "source": [
    "from transformers import DistilBertForSequenceClassification\n",
    "\n",
    "# Load the model\n",
    "model = DistilBertForSequenceClassification.from_pretrained(\"distilbert-base-uncased\")"
   ]
  },
  {
   "cell_type": "markdown",
   "id": "82abe440",
   "metadata": {},
   "source": [
    "# Export the model"
   ]
  },
  {
   "cell_type": "code",
   "execution_count": 3,
   "id": "bf6fcc79",
   "metadata": {},
   "outputs": [],
   "source": [
    "from transformers import DistilBertTokenizer\n",
    "import torch\n",
    "\n",
    "# Create dummy input for export\n",
    "tokenizer = DistilBertTokenizer.from_pretrained(\"distilbert-base-uncased\")\n",
    "sentence = \"I love AI and privacy!\"\n",
    "inputs = tokenizer(sentence, padding = \"max_length\", max_length = 8, return_tensors=\"pt\")[\"input_ids\"]\n",
    "\n",
    "# Export the model\n",
    "torch.onnx.export(\n",
    "\tmodel, inputs, \"./distilbert-base-uncased.onnx\",\n",
    "\texport_params=True, opset_version=11,\n",
    "\tinput_names = ['input'], output_names = ['output'],\n",
    "\tdynamic_axes={'input' : {0 : 'batch_size'},\n",
    "\t'output' : {0 : 'batch_size'}})"
   ]
  },
  {
   "cell_type": "markdown",
   "id": "9cd8d46a",
   "metadata": {},
   "source": [
    "# Upload model to inference server"
   ]
  },
  {
   "cell_type": "code",
   "execution_count": 4,
   "id": "155ddc68",
   "metadata": {},
   "outputs": [
    {
     "name": "stderr",
     "output_type": "stream",
     "text": [
      "WARNING:root:Untrusted server certificate check bypassed\n",
      "WARNING:root:Attestation process is bypassed : running without requesting and checking attestation\n"
     ]
    },
    {
     "data": {
      "text/plain": [
       "ok: true\n",
       "msg: \"OK\""
      ]
     },
     "execution_count": 4,
     "metadata": {},
     "output_type": "execute_result"
    }
   ],
   "source": [
    "from blindai.client import BlindAiClient, ModelDatumType\n",
    "\n",
    "# Launch client\n",
    "client = BlindAiClient()\n",
    "\n",
    "client.connect_server(addr=\"localhost\", simulation=True)\n",
    "\n",
    "client.upload_model(model=\"./distilbert-base-uncased.onnx\", shape=inputs.shape, dtype=ModelDatumType.I64)"
   ]
  },
  {
   "cell_type": "markdown",
   "id": "3df5c14e",
   "metadata": {},
   "source": [
    "# Send data for prediction"
   ]
  },
  {
   "cell_type": "code",
   "execution_count": 5,
   "id": "d8b6f2dd",
   "metadata": {},
   "outputs": [],
   "source": [
    "from transformers import DistilBertTokenizer\n",
    "\n",
    "# Prepare the inputs\n",
    "tokenizer = DistilBertTokenizer.from_pretrained(\"distilbert-base-uncased\")\n",
    "sentence = \"I love AI and privacy!\"\n",
    "inputs = tokenizer(sentence, padding = \"max_length\", max_length = 8)[\"input_ids\"]"
   ]
  },
  {
   "cell_type": "code",
   "execution_count": 6,
   "id": "ac8b4612",
   "metadata": {},
   "outputs": [
    {
     "name": "stderr",
     "output_type": "stream",
     "text": [
      "WARNING:root:Untrusted server certificate check bypassed\n",
      "WARNING:root:Attestation process is bypassed : running without requesting and checking attestation\n"
     ]
    }
   ],
   "source": [
    "from blindai.client import BlindAiClient\n",
    "\n",
    "# Load the client\n",
    "client = BlindAiClient()\n",
    "client.connect_server(\"localhost\", simulation=True)\n",
    "\n",
    "# Get prediction\n",
    "response = client.run_model(inputs)"
   ]
  },
  {
   "cell_type": "code",
   "execution_count": 7,
   "id": "1bf49edd",
   "metadata": {},
   "outputs": [
    {
     "data": {
      "text/plain": [
       "[0.08461568504571915, 0.05188371241092682]"
      ]
     },
     "execution_count": 7,
     "metadata": {},
     "output_type": "execute_result"
    }
   ],
   "source": [
    "response.output"
   ]
  },
  {
   "cell_type": "markdown",
   "id": "9e609cfb",
   "metadata": {},
   "source": [
    "Here we can compare the results against the original prediction."
   ]
  },
  {
   "cell_type": "code",
   "execution_count": 8,
   "id": "5c06fc11",
   "metadata": {},
   "outputs": [
    {
     "data": {
      "text/plain": [
       "tensor([[0.0846, 0.0519]])"
      ]
     },
     "execution_count": 8,
     "metadata": {},
     "output_type": "execute_result"
    }
   ],
   "source": [
    "model(torch.tensor(inputs).unsqueeze(0)).logits.detach()"
   ]
  }
 ],
 "metadata": {
  "kernelspec": {
   "display_name": "Python 3 (ipykernel)",
   "language": "python",
   "name": "python3"
  },
  "language_info": {
   "codemirror_mode": {
    "name": "ipython",
    "version": 3
   },
   "file_extension": ".py",
   "mimetype": "text/x-python",
   "name": "python",
   "nbconvert_exporter": "python",
   "pygments_lexer": "ipython3",
   "version": "3.8.10"
  }
 },
 "nbformat": 4,
 "nbformat_minor": 5
}
