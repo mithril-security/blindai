{
 "cells": [
  {
   "cell_type": "markdown",
   "id": "4c604ff7",
   "metadata": {},
   "source": [
    "<a href=\"https://colab.research.google.com/github/mithril-security/blindai/blob/jupyter-0.5.0-redux/examples/covidnet/BlindAI-COVID-Net.ipynb\" target=\"_parent\"><img src=\"https://colab.research.google.com/assets/colab-badge.svg\" alt=\"Open In Colab\"/></a>"
   ]
  },
  {
   "cell_type": "markdown",
   "id": "6f1d3af6",
   "metadata": {},
   "source": [
    "# About this example\n",
    "\n",
    "This example shows how you can deploy COVID-Net model to analyze X-Ray scans of chest X-rays to detect COVID. \n",
    "\n",
    "By using BlindAI, people can send data for the AI to analyze their medical images without having to fear privacy leaks.\n",
    "\n",
    "COVID-Net is a deep CNN to detect COVID from chest X-rays. You can learn more about it on the [COVID-Net repository](https://github.com/lindawangg/COVID-Net).\n",
    "\n",
    "More information on this use case can be found on our blog post [Confidential medical image analysis with COVID-Net and BlindAI](https://blog.mithrilsecurity.io/confidential-covidnet-with-blindai/)."
   ]
  },
  {
   "cell_type": "markdown",
   "id": "334419ad",
   "metadata": {},
   "source": [
    "# Installing dependencies"
   ]
  },
  {
   "cell_type": "markdown",
   "id": "46efa7c9",
   "metadata": {},
   "source": [
    "Install the dependencies this example needs."
   ]
  },
  {
   "cell_type": "code",
   "execution_count": null,
   "id": "6625af10",
   "metadata": {},
   "outputs": [],
   "source": [
    "!pip install pillow numpy opencv-python onnxruntime matplotlib"
   ]
  },
  {
   "cell_type": "markdown",
   "id": "3766101f",
   "metadata": {},
   "source": [
    "Install the latest version of BlindAI."
   ]
  },
  {
   "cell_type": "code",
   "execution_count": null,
   "id": "4bc9033d",
   "metadata": {},
   "outputs": [],
   "source": [
    "!pip install blindai"
   ]
  },
  {
   "cell_type": "markdown",
   "id": "2efa298c",
   "metadata": {},
   "source": [
    "# Preparing the model"
   ]
  },
  {
   "cell_type": "markdown",
   "id": "9698eef5",
   "metadata": {},
   "source": [
    "For this example, we will directly download a Covid-NET model that has already been trained. We have pre-exported the model from the [COVID-Net repository](https://github.com/lindawangg/COVID-Net) in ONNX file so no need to export it.\n",
    "\n",
    "Because the file is rather big, the download might take some time."
   ]
  },
  {
   "cell_type": "code",
   "execution_count": null,
   "id": "65576d34",
   "metadata": {},
   "outputs": [],
   "source": [
    "!wget --quiet --load-cookies /tmp/cookies.txt \"https://docs.google.com/uc?export=download&confirm=$(wget --quiet --save-cookies /tmp/cookies.txt --keep-session-cookies --no-check-certificate 'https://docs.google.com/uc?export=download&id=1Rzl_XpV_kBw-lzu_5xYpc8briFd7fjvc' -O- | sed -rn 's/.*confirm=([0-9A-Za-z_]+).*/\\1\\n/p')&id=1Rzl_XpV_kBw-lzu_5xYpc8briFd7fjvc\" -O COVID-Net-CXR-2.onnx && rm -rf /tmp/cookies.txt"
   ]
  },
  {
   "cell_type": "markdown",
   "id": "8919ccb5",
   "metadata": {},
   "source": [
    "# Deployment on BlindAI"
   ]
  },
  {
   "cell_type": "markdown",
   "id": "963e7e48",
   "metadata": {},
   "source": [
    "Now we can upload the model to BlindAI Cloud. To upload of the model, make sure you have an API key.\n",
    "\n",
    "You can get one on the [Mithril Cloud](https://cloud.mithrilsecurity.io/).\n",
    "\n",
    "You might get an error if the name you want to use is already taken, as models are uniquely identified by their `model_id`. We will implement namespace soon to avoid that. Meanwhile, you will have to choose a unique ID. We provide an example below to upload your model with a unique name:"
   ]
  },
  {
   "cell_type": "code",
   "execution_count": null,
   "id": "155ddc68",
   "metadata": {},
   "outputs": [],
   "source": [
    "import blindai\n",
    "import uuid\n",
    "\n",
    "api_key = \"YOUR_API_KEY\" # Enter your API key here\n",
    "model_id = \"covidnet-\" + str(uuid.uuid4())\n",
    "\n",
    "# Upload the ONNX file to the remote enclave\n",
    "with blindai.Connection(api_key=api_key) as client:\n",
    "    response = client.upload_model(\"COVID-Net-CXR-2.onnx\", model_id=model_id)"
   ]
  },
  {
   "cell_type": "markdown",
   "id": "3df5c14e",
   "metadata": {},
   "source": [
    "# Sending data for  confidential prediction"
   ]
  },
  {
   "cell_type": "markdown",
   "id": "cb7d1531",
   "metadata": {},
   "source": [
    "Now it's time to check it's working live!\n",
    "\n",
    "We will just prepare some input for the model inside the secure enclave of BlindAI to process it."
   ]
  },
  {
   "cell_type": "markdown",
   "id": "8dac0a3b",
   "metadata": {},
   "source": [
    "First, we need to fetch the CXR image to send to the model."
   ]
  },
  {
   "cell_type": "code",
   "execution_count": null,
   "id": "ccde18dd",
   "metadata": {},
   "outputs": [],
   "source": [
    "!wget --quiet https://raw.githubusercontent.com/lindawangg/COVID-Net/master/assets/ex-covid.jpeg"
   ]
  },
  {
   "cell_type": "markdown",
   "id": "835b1ccd",
   "metadata": {},
   "source": [
    "We will use the same preprocessing functions as in the [COVID-Net repository](https://github.com/lindawangg/COVID-Net)."
   ]
  },
  {
   "cell_type": "code",
   "execution_count": null,
   "id": "20396b6f",
   "metadata": {},
   "outputs": [],
   "source": [
    "# This uses OpenCV for image processing\n",
    "import cv2\n",
    "\n",
    "def crop_top(img, percent=0.15):\n",
    "    offset = int(img.shape[0] * percent)\n",
    "    return img[offset:]\n",
    "\n",
    "def central_crop(img):\n",
    "    size = min(img.shape[0], img.shape[1])\n",
    "    offset_h = int((img.shape[0] - size) / 2)\n",
    "    offset_w = int((img.shape[1] - size) / 2)\n",
    "    return img[offset_h:offset_h + size, offset_w:offset_w + size]\n",
    "\n",
    "def process_image_file(filepath, size, top_percent=0.08, crop=True):\n",
    "    img = cv2.imread(filepath)\n",
    "    img = crop_top(img, percent=top_percent)\n",
    "    if crop:\n",
    "        img = central_crop(img)\n",
    "    img = cv2.resize(img, (size, size))\n",
    "    return img"
   ]
  },
  {
   "cell_type": "markdown",
   "id": "f5605148",
   "metadata": {},
   "source": [
    "We can now load the image we have downloaded and preprocess it."
   ]
  },
  {
   "cell_type": "code",
   "execution_count": null,
   "id": "f1cb2e83",
   "metadata": {},
   "outputs": [],
   "source": [
    "import numpy as np\n",
    "\n",
    "img = process_image_file(\"./ex-covid.jpeg\", size=480)\n",
    "img = img.astype(\"float32\") / 255.0\n",
    "img = img[np.newaxis,:,:,:]"
   ]
  },
  {
   "cell_type": "markdown",
   "id": "d0948aba",
   "metadata": {},
   "source": [
    "We can have a look at the model input."
   ]
  },
  {
   "cell_type": "code",
   "execution_count": null,
   "id": "51d94c0a",
   "metadata": {},
   "outputs": [],
   "source": [
    "import matplotlib.pyplot as plt\n",
    "\n",
    "plt.imshow(img[0])"
   ]
  },
  {
   "cell_type": "markdown",
   "id": "a744fcc9",
   "metadata": {},
   "source": [
    "For data marshalling reason, we will flatten the image and convert it to a list."
   ]
  },
  {
   "cell_type": "markdown",
   "id": "d4866369",
   "metadata": {},
   "source": [
    "We can then send the data to be processed by the BlindAI server!"
   ]
  },
  {
   "cell_type": "code",
   "execution_count": null,
   "id": "ac8b4612",
   "metadata": {},
   "outputs": [],
   "source": [
    "with blindai.Connection(api_key=api_key) as client:\n",
    "  # Send data to the ResNet18 model\n",
    "  response = client.predict(model_id, img)"
   ]
  },
  {
   "cell_type": "code",
   "execution_count": null,
   "id": "1bf49edd",
   "metadata": {},
   "outputs": [],
   "source": [
    "plt.imshow(img[0])\n",
    "plt.title(f\"Probability of COVID positivity: {response.output[0].as_flat()[1]}\")\n",
    "\n",
    "print(response.output)"
   ]
  },
  {
   "cell_type": "markdown",
   "id": "9e609cfb",
   "metadata": {},
   "source": [
    "Here we can compare the results against the original prediction."
   ]
  },
  {
   "cell_type": "code",
   "execution_count": null,
   "id": "5c06fc11",
   "metadata": {},
   "outputs": [],
   "source": [
    "import onnxruntime\n",
    "\n",
    "ort_session = onnxruntime.InferenceSession(\"COVID-Net-CXR-2.onnx\")\n",
    "ort_inputs = {ort_session.get_inputs()[0].name: img}\n",
    "\n",
    "onnx_outputs = ort_session.run(None, ort_inputs)\n",
    "print(f\"Probability of COVID positivity from original model: {onnx_outputs[0][0][1]}\")"
   ]
  },
  {
   "cell_type": "markdown",
   "id": "d74f9721",
   "metadata": {},
   "source": [
    "Et voila! We have been able to apply a start of the art model of image recognition, without ever having to show the data in clear to the people operating the service!\n",
    "\n",
    "If you have liked this example, do not hesitate to drop a star on our [GitHub](https://github.com/mithril-security/blindai) and chat with us on our [Discord](https://discord.gg/TxEHagpWd4)!"
   ]
  }
 ],
 "metadata": {
  "colab": {
   "include_colab_link": true,
   "provenance": []
  },
  "interpreter": {
   "hash": "d4728e1a3ff73eb9f349d79cccba999964e06e0723f28c97cabf0434506e63b1"
  },
  "kernelspec": {
   "display_name": "Python 3.8.10 ('env': venv)",
   "language": "python",
   "name": "python3"
  },
  "language_info": {
   "codemirror_mode": {
    "name": "ipython",
    "version": 3
   },
   "file_extension": ".py",
   "mimetype": "text/x-python",
   "name": "python",
   "nbconvert_exporter": "python",
   "pygments_lexer": "ipython3"
  }
 },
 "nbformat": 4,
 "nbformat_minor": 5
}
