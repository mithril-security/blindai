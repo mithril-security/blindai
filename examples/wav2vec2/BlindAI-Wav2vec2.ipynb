{
  "cells": [
    {
      "cell_type": "markdown",
      "metadata": {
        "id": "view-in-github",
        "colab_type": "text"
      },
      "source": [
        "<a href=\"https://colab.research.google.com/github/mithril-security/blindai/blob/jupyter-0.5.0-redux/examples/wav2vec2/BlindAI-Wav2vec2.ipynb\" target=\"_parent\"><img src=\"https://colab.research.google.com/assets/colab-badge.svg\" alt=\"Open In Colab\"/></a>"
      ]
    },
    {
      "cell_type": "markdown",
      "id": "463e6024",
      "metadata": {
        "id": "463e6024"
      },
      "source": [
        "# About this example\n",
        "\n",
        "This example shows how you can run a Wav2Vec2 model to perform Speech-To-Text with confidentiality guarantees. \n",
        "\n",
        "By using BlindAI, people can send data for the AI to analyze their conversations without having to fear privacy leaks.\n",
        "\n",
        "Wav2Vec2 is a state-of-the art Transformers model for speech. You can learn more about it on [FAIR blog's post](https://ai.facebook.com/blog/wav2vec-20-learning-the-structure-of-speech-from-raw-audio/)."
      ]
    },
    {
      "cell_type": "markdown",
      "id": "3962be97",
      "metadata": {
        "id": "3962be97"
      },
      "source": [
        "# Installing dependencies"
      ]
    },
    {
      "cell_type": "markdown",
      "id": "cbda973b",
      "metadata": {
        "id": "cbda973b"
      },
      "source": [
        "Install the dependencies this example needs."
      ]
    },
    {
      "cell_type": "code",
      "execution_count": 1,
      "id": "e78255e4",
      "metadata": {
        "id": "e78255e4",
        "outputId": "52c8e48f-11c1-4f9c-b15c-e376dce81b3d",
        "colab": {
          "base_uri": "https://localhost:8080/"
        }
      },
      "outputs": [
        {
          "output_type": "stream",
          "name": "stdout",
          "text": [
            "\u001b[K     |████████████████████████████████| 4.7 MB 5.1 MB/s \n",
            "\u001b[K     |████████████████████████████████| 120 kB 67.1 MB/s \n",
            "\u001b[K     |████████████████████████████████| 6.6 MB 45.8 MB/s \n",
            "\u001b[K     |████████████████████████████████| 212 kB 44.0 MB/s \n",
            "\u001b[K     |████████████████████████████████| 83 kB 870 kB/s \n",
            "\u001b[K     |████████████████████████████████| 442 kB 9.1 MB/s \n",
            "\u001b[K     |████████████████████████████████| 4.9 MB 34.8 MB/s \n",
            "\u001b[K     |████████████████████████████████| 46 kB 1.6 MB/s \n",
            "\u001b[K     |████████████████████████████████| 99 kB 3.7 MB/s \n",
            "\u001b[K     |████████████████████████████████| 13.1 MB 20.0 MB/s \n",
            "\u001b[K     |████████████████████████████████| 55 kB 2.4 MB/s \n",
            "\u001b[K     |████████████████████████████████| 86 kB 3.2 MB/s \n",
            "\u001b[?25h  Building wheel for py-cpuinfo (setup.py) ... \u001b[?25l\u001b[?25hdone\n"
          ]
        }
      ],
      "source": [
        "!pip install -q transformers[onnx] torch"
      ]
    },
    {
      "cell_type": "markdown",
      "id": "093a9236",
      "metadata": {
        "id": "093a9236"
      },
      "source": [
        "We will need `librosa` to load the \"hello world\" audio file. You might need to downgrade `numpy` to 1.21 to make it work. The following commands should do the trick to install `librosa`:"
      ]
    },
    {
      "cell_type": "code",
      "execution_count": 2,
      "id": "dfb1c5ed",
      "metadata": {
        "id": "dfb1c5ed",
        "outputId": "13f3e361-894e-41df-a1bf-6da75de153d9",
        "colab": {
          "base_uri": "https://localhost:8080/"
        }
      },
      "outputs": [
        {
          "output_type": "stream",
          "name": "stdout",
          "text": [
            "\u001b[K     |████████████████████████████████| 15.7 MB 333 kB/s \n",
            "\u001b[?25h"
          ]
        }
      ],
      "source": [
        "!pip install -q --upgrade numpy==1.21\n",
        "!pip install -q librosa"
      ]
    },
    {
      "cell_type": "markdown",
      "id": "406ea52f",
      "metadata": {
        "id": "406ea52f"
      },
      "source": [
        "In addition, you might need to install `ffmpeg` to have a backend to process the wav file."
      ]
    },
    {
      "cell_type": "code",
      "execution_count": 3,
      "id": "71d2990a",
      "metadata": {
        "id": "71d2990a",
        "outputId": "e9dc0617-6739-4d8d-9d26-cc0706ef867b",
        "colab": {
          "base_uri": "https://localhost:8080/"
        }
      },
      "outputs": [
        {
          "output_type": "stream",
          "name": "stdout",
          "text": [
            "Reading package lists... Done\n",
            "Building dependency tree       \n",
            "Reading state information... Done\n",
            "ffmpeg is already the newest version (7:3.4.11-0ubuntu0.1).\n",
            "The following package was automatically installed and is no longer required:\n",
            "  libnvidia-common-460\n",
            "Use 'sudo apt autoremove' to remove it.\n",
            "0 upgraded, 0 newly installed, 0 to remove and 20 not upgraded.\n"
          ]
        }
      ],
      "source": [
        "!sudo apt-get install -y ffmpeg"
      ]
    },
    {
      "cell_type": "markdown",
      "id": "8bd99a83",
      "metadata": {
        "id": "8bd99a83"
      },
      "source": [
        "Install the latest version of BlindAI."
      ]
    },
    {
      "cell_type": "code",
      "execution_count": 4,
      "id": "02339f36",
      "metadata": {
        "id": "02339f36",
        "outputId": "99d2512f-923e-4e50-c279-6bbca49b7106",
        "colab": {
          "base_uri": "https://localhost:8080/"
        }
      },
      "outputs": [
        {
          "output_type": "stream",
          "name": "stdout",
          "text": [
            "Looking in indexes: https://pypi.org/simple, https://us-python.pkg.dev/colab-wheels/public/simple/\n",
            "Collecting blindai\n",
            "  Downloading blindai-0.5.1-cp37-cp37m-manylinux_2_17_x86_64.manylinux2014_x86_64.whl (2.0 MB)\n",
            "\u001b[K     |████████████████████████████████| 2.0 MB 4.8 MB/s \n",
            "\u001b[?25hCollecting cryptography\n",
            "  Downloading cryptography-38.0.1-cp36-abi3-manylinux_2_24_x86_64.whl (4.0 MB)\n",
            "\u001b[K     |████████████████████████████████| 4.0 MB 48.6 MB/s \n",
            "\u001b[?25hRequirement already satisfied: toml in /usr/local/lib/python3.7/dist-packages (from blindai) (0.10.2)\n",
            "Collecting bitstring\n",
            "  Downloading bitstring-3.1.9-py3-none-any.whl (38 kB)\n",
            "Collecting grpcio-tools>=1.4\n",
            "  Downloading grpcio_tools-1.48.1-cp37-cp37m-manylinux_2_17_x86_64.manylinux2014_x86_64.whl (2.4 MB)\n",
            "\u001b[K     |████████████████████████████████| 2.4 MB 41.0 MB/s \n",
            "\u001b[?25hRequirement already satisfied: typing-extensions in /usr/local/lib/python3.7/dist-packages (from blindai) (4.1.1)\n",
            "Requirement already satisfied: grpcio>=1.4 in /usr/local/lib/python3.7/dist-packages (from blindai) (1.47.0)\n",
            "Requirement already satisfied: six>=1.5.2 in /usr/local/lib/python3.7/dist-packages (from grpcio>=1.4->blindai) (1.15.0)\n",
            "Collecting grpcio>=1.4\n",
            "  Downloading grpcio-1.48.1-cp37-cp37m-manylinux_2_17_x86_64.manylinux2014_x86_64.whl (4.6 MB)\n",
            "\u001b[K     |████████████████████████████████| 4.6 MB 42.9 MB/s \n",
            "\u001b[?25hRequirement already satisfied: setuptools in /usr/local/lib/python3.7/dist-packages (from grpcio-tools>=1.4->blindai) (57.4.0)\n",
            "Requirement already satisfied: protobuf<4.0dev,>=3.12.0 in /usr/local/lib/python3.7/dist-packages (from grpcio-tools>=1.4->blindai) (3.17.3)\n",
            "Requirement already satisfied: cffi>=1.12 in /usr/local/lib/python3.7/dist-packages (from cryptography->blindai) (1.15.1)\n",
            "Requirement already satisfied: pycparser in /usr/local/lib/python3.7/dist-packages (from cffi>=1.12->cryptography->blindai) (2.21)\n",
            "Installing collected packages: grpcio, grpcio-tools, cryptography, bitstring, blindai\n",
            "  Attempting uninstall: grpcio\n",
            "    Found existing installation: grpcio 1.47.0\n",
            "    Uninstalling grpcio-1.47.0:\n",
            "      Successfully uninstalled grpcio-1.47.0\n",
            "Successfully installed bitstring-3.1.9 blindai-0.5.1 cryptography-38.0.1 grpcio-1.48.1 grpcio-tools-1.48.1\n"
          ]
        }
      ],
      "source": [
        "!pip install blindai"
      ]
    },
    {
      "cell_type": "markdown",
      "id": "2efa298c",
      "metadata": {
        "id": "2efa298c"
      },
      "source": [
        "# Preparing the model"
      ]
    },
    {
      "cell_type": "markdown",
      "id": "61d0fefd",
      "metadata": {
        "id": "61d0fefd"
      },
      "source": [
        "Here we will use a large Wav2Vec2 model. First step is to get the model and tokenizers."
      ]
    },
    {
      "cell_type": "code",
      "execution_count": 5,
      "id": "9916dcca",
      "metadata": {
        "id": "9916dcca",
        "outputId": "ba82ca32-15cb-46e8-e8b2-792fb912194f",
        "colab": {
          "base_uri": "https://localhost:8080/",
          "height": 244,
          "referenced_widgets": [
            "a84f61d98c53405ab34686b8e73dfe08",
            "fd4e2db1018a43c7bdc9fb3633eb2045",
            "f3a999b8d4834dde9ff084cda1e6a4e8",
            "bd42423c46004e5ca2364240d2b1f3ee",
            "c2173ec4153547f18e6c5526f1c2256f",
            "8f639899f4f74dca924e9a424c533242",
            "83ccf86766344d29bff5113d387393da",
            "f5084cb24e634dff987ea0208180fee7",
            "1e81c5808a1e4b45aa2973a8d51420b2",
            "3a42be6878ef4cf0af8e92bebf4db4e1",
            "215bb888bfb3444d89cf3a1a6efb37c0",
            "c9cdeb60d66540fdb82eb2df2c6f1e5c",
            "9bd5f4e896224679a0fb96048dd46aae",
            "ad947af846684da3a098b3d8a6dae1a7",
            "14d560b2e9354f75aaa760b7b928342f",
            "0397ef2fad2a45439cd218ff1f8337d6",
            "14ca8c6a12e048ce860f5acb073c7b75",
            "e1195e65baa84992a3e6090544f23a66",
            "e6715e8576164f84839fcb27a629d244",
            "a9943c920b014f4480f1ee02aacedaa5",
            "c3e0218a557546a2a353900cdcea61ef",
            "e305e0dc51ca4e4da5a8e3b0b2105a30",
            "95f668a98a494dd6b69c3536bc6e00bd",
            "51f66f9436304f82a0e92533b1051f67",
            "8669655c98854f63b96cac90bc516fa7",
            "2e8109b3aa2f422ca46b7c20d7366f0e",
            "4bed5c970f1644ddacc613c39e25ede4",
            "b9c7af0071f640d1844a5a3ac0c5003a",
            "6f3feea7b31c4e1da173e858b2e6eddb",
            "0277abc0932c44dcbbf77f2de1995cb0",
            "95fa30e6bcdc4656a05e45d21ff7197c",
            "c3b59e84c2a5465cb19b564a22380200",
            "7bcddc50a855418389357bb1f93b8ec6",
            "6184b4f062e94c89902fa5608fd15654",
            "f09ab82207cd45a8b92c176c1858541c",
            "f83f2172b2e244da86c74c0dad8951a2",
            "6579438057e747aea0dbcb1e0c0ee67c",
            "0d0574c23608409e9c5e458da34f1e42",
            "3c9a17b9104b40f2a6c9c6154c1b18d7",
            "03b65ed04c8642bc9417ae80a7062a8c",
            "49e75c2181ab4bf9a7faba56c408c0e2",
            "3286dedc3550464eb299a9c765696d91",
            "a2364e46b5204789ac9aa1316ff3337b",
            "cf2f7b43bfa9454a8c68304d4eba3f09",
            "2129b682facb4a2485c29a942f4d7f74",
            "f56cd21ab9bb476c97aedb7bd2968d68",
            "6155a5c14d8c4cce97d93bd9925d785b",
            "4805ac692a5044459de8558b68542b2a",
            "c03ef6baaff944c8b7ca2b0dde5febeb",
            "ae053c5ce61048e7b3a6a4de797121f7",
            "fe8c232f15d942e89179aa569f324431",
            "22bea1c94ad24c50a90c9016b59f847f",
            "f8b260e77a414b6ca7680d035eb593d3",
            "d3d5781b5c4d46bf86de25ddb6034742",
            "c023810798ad4d6aaf5b00397f4b9662",
            "0d19e7744f39474f8400945b3e142d9e",
            "6a0a079e49b3499c8442c54c2ff450e0",
            "66197be42c0a4ed9ae5b48fe01d9dfdc",
            "041ee62f606546879e138a95db2f41d1",
            "c75f52a7d23045f3a750e15df9d99261",
            "d78cb668754a485bb777e4b49b755a19",
            "e5de5253e02f429db9758a1cf153245c",
            "21aefbdec33e4468a7c89bc3bc91af56",
            "ef27db3ab3854a2f97aae6412bb53dfb",
            "d2080a0ad17d4763ae4da8e63f525bf6",
            "0c1a967b1cb5420caf8600ab9964de51"
          ]
        }
      },
      "outputs": [
        {
          "output_type": "display_data",
          "data": {
            "text/plain": [
              "Downloading preprocessor_config.json:   0%|          | 0.00/159 [00:00<?, ?B/s]"
            ],
            "application/vnd.jupyter.widget-view+json": {
              "version_major": 2,
              "version_minor": 0,
              "model_id": "a84f61d98c53405ab34686b8e73dfe08"
            }
          },
          "metadata": {}
        },
        {
          "output_type": "display_data",
          "data": {
            "text/plain": [
              "Downloading tokenizer_config.json:   0%|          | 0.00/163 [00:00<?, ?B/s]"
            ],
            "application/vnd.jupyter.widget-view+json": {
              "version_major": 2,
              "version_minor": 0,
              "model_id": "c9cdeb60d66540fdb82eb2df2c6f1e5c"
            }
          },
          "metadata": {}
        },
        {
          "output_type": "display_data",
          "data": {
            "text/plain": [
              "Downloading config.json:   0%|          | 0.00/1.56k [00:00<?, ?B/s]"
            ],
            "application/vnd.jupyter.widget-view+json": {
              "version_major": 2,
              "version_minor": 0,
              "model_id": "95f668a98a494dd6b69c3536bc6e00bd"
            }
          },
          "metadata": {}
        },
        {
          "output_type": "display_data",
          "data": {
            "text/plain": [
              "Downloading vocab.json:   0%|          | 0.00/291 [00:00<?, ?B/s]"
            ],
            "application/vnd.jupyter.widget-view+json": {
              "version_major": 2,
              "version_minor": 0,
              "model_id": "6184b4f062e94c89902fa5608fd15654"
            }
          },
          "metadata": {}
        },
        {
          "output_type": "display_data",
          "data": {
            "text/plain": [
              "Downloading special_tokens_map.json:   0%|          | 0.00/85.0 [00:00<?, ?B/s]"
            ],
            "application/vnd.jupyter.widget-view+json": {
              "version_major": 2,
              "version_minor": 0,
              "model_id": "2129b682facb4a2485c29a942f4d7f74"
            }
          },
          "metadata": {}
        },
        {
          "output_type": "display_data",
          "data": {
            "text/plain": [
              "Downloading pytorch_model.bin:   0%|          | 0.00/360M [00:00<?, ?B/s]"
            ],
            "application/vnd.jupyter.widget-view+json": {
              "version_major": 2,
              "version_minor": 0,
              "model_id": "0d19e7744f39474f8400945b3e142d9e"
            }
          },
          "metadata": {}
        },
        {
          "output_type": "stream",
          "name": "stderr",
          "text": [
            "Some weights of Wav2Vec2ForCTC were not initialized from the model checkpoint at facebook/wav2vec2-base-960h and are newly initialized: ['wav2vec2.masked_spec_embed']\n",
            "You should probably TRAIN this model on a down-stream task to be able to use it for predictions and inference.\n"
          ]
        }
      ],
      "source": [
        "from transformers import Wav2Vec2Processor, Wav2Vec2ForCTC\n",
        "import torch\n",
        "\n",
        "# load model and processor\n",
        "processor = Wav2Vec2Processor.from_pretrained(\"facebook/wav2vec2-base-960h\")\n",
        "model = Wav2Vec2ForCTC.from_pretrained(\"facebook/wav2vec2-base-960h\")"
      ]
    },
    {
      "cell_type": "markdown",
      "id": "8b057a31",
      "metadata": {
        "id": "8b057a31"
      },
      "source": [
        "We can download an hello world audio file to be used as example. Let's download it."
      ]
    },
    {
      "cell_type": "code",
      "execution_count": 6,
      "id": "b1374d23",
      "metadata": {
        "id": "b1374d23",
        "outputId": "1435c0f5-7788-4891-d5a8-a824b2ab6f60",
        "colab": {
          "base_uri": "https://localhost:8080/"
        }
      },
      "outputs": [
        {
          "output_type": "stream",
          "name": "stdout",
          "text": [
            "--2022-09-11 19:30:22--  https://github.com/mithril-security/blindai/raw/master/examples/wav2vec2/hello_world.wav\n",
            "Resolving github.com (github.com)... 140.82.114.4\n",
            "Connecting to github.com (github.com)|140.82.114.4|:443... connected.\n",
            "HTTP request sent, awaiting response... 302 Found\n",
            "Location: https://raw.githubusercontent.com/mithril-security/blindai/master/examples/wav2vec2/hello_world.wav [following]\n",
            "--2022-09-11 19:30:22--  https://raw.githubusercontent.com/mithril-security/blindai/master/examples/wav2vec2/hello_world.wav\n",
            "Resolving raw.githubusercontent.com (raw.githubusercontent.com)... 185.199.108.133, 185.199.109.133, 185.199.110.133, ...\n",
            "Connecting to raw.githubusercontent.com (raw.githubusercontent.com)|185.199.108.133|:443... connected.\n",
            "HTTP request sent, awaiting response... 200 OK\n",
            "Length: 6083 (5.9K) [audio/wav]\n",
            "Saving to: ‘hello_world.wav’\n",
            "\n",
            "hello_world.wav     100%[===================>]   5.94K  --.-KB/s    in 0s      \n",
            "\n",
            "2022-09-11 19:30:22 (42.9 MB/s) - ‘hello_world.wav’ saved [6083/6083]\n",
            "\n"
          ]
        }
      ],
      "source": [
        "!wget https://github.com/mithril-security/blindai/raw/master/examples/wav2vec2/hello_world.wav"
      ]
    },
    {
      "cell_type": "markdown",
      "id": "b032cd2f",
      "metadata": {
        "id": "b032cd2f"
      },
      "source": [
        "We can hear it here:"
      ]
    },
    {
      "cell_type": "code",
      "execution_count": 7,
      "id": "d460db55",
      "metadata": {
        "id": "d460db55",
        "outputId": "bc0d9ad0-926e-459c-95a1-37e90d8672cc",
        "colab": {
          "base_uri": "https://localhost:8080/",
          "height": 76
        }
      },
      "outputs": [
        {
          "output_type": "execute_result",
          "data": {
            "text/plain": [
              "<IPython.lib.display.Audio object>"
            ],
            "text/html": [
              "\n",
              "                <audio  controls=\"controls\" >\n",
              "                    <source src=\"data:audio/x-wav;base64,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\" type=\"audio/x-wav\" />\n",
              "                    Your browser does not support the audio element.\n",
              "                </audio>\n",
              "              "
            ]
          },
          "metadata": {},
          "execution_count": 7
        }
      ],
      "source": [
        "import IPython.display as ipd\n",
        "ipd.Audio('hello_world.wav')"
      ]
    },
    {
      "cell_type": "markdown",
      "id": "6af05eb7",
      "metadata": {
        "id": "6af05eb7"
      },
      "source": [
        "We can then see the Wav2vec2 model in action on the hello world file."
      ]
    },
    {
      "cell_type": "code",
      "execution_count": 8,
      "id": "cdbd3a1b",
      "metadata": {
        "id": "cdbd3a1b",
        "outputId": "9cf5f307-66ff-4d2a-9343-f2fbad0b16eb",
        "colab": {
          "base_uri": "https://localhost:8080/"
        }
      },
      "outputs": [
        {
          "output_type": "stream",
          "name": "stderr",
          "text": [
            "/usr/local/lib/python3.7/dist-packages/librosa/core/audio.py:165: UserWarning: PySoundFile failed. Trying audioread instead.\n",
            "  warnings.warn(\"PySoundFile failed. Trying audioread instead.\")\n"
          ]
        },
        {
          "output_type": "stream",
          "name": "stdout",
          "text": [
            "['HELLO WORLD']\n"
          ]
        }
      ],
      "source": [
        "import librosa\n",
        "\n",
        "audio, rate = librosa.load(\"hello_world.wav\", sr = 16000)\n",
        "\n",
        "# Tokenize sampled audio to input into model\n",
        "input_values = processor(audio, sampling_rate=rate, return_tensors=\"pt\", padding=\"longest\").input_values\n",
        "\n",
        "# Retrieve logits\n",
        "logits = model(input_values).logits\n",
        "\n",
        "# Take argmax and decode\n",
        "predicted_ids = torch.argmax(logits, dim=-1)\n",
        "transcription = processor.batch_decode(predicted_ids)\n",
        "print(transcription)"
      ]
    },
    {
      "cell_type": "markdown",
      "id": "15a6a94b",
      "metadata": {
        "id": "15a6a94b"
      },
      "source": [
        "In order to facilitate the deployment, we will add the post processing directly to the full model. This way the client will not have to do the post processing."
      ]
    },
    {
      "cell_type": "code",
      "execution_count": 9,
      "id": "1bc89a60",
      "metadata": {
        "id": "1bc89a60"
      },
      "outputs": [],
      "source": [
        "import torch.nn as nn\n",
        "\n",
        "# Let's embed the post-processing phase with argmax inside our model\n",
        "class ArgmaxLayer(nn.Module):\n",
        "    def __init__(self):\n",
        "        super(ArgmaxLayer, self).__init__()\n",
        "\n",
        "    def forward(self, outputs):\n",
        "        return torch.argmax(outputs.logits, dim = -1)"
      ]
    },
    {
      "cell_type": "code",
      "execution_count": 10,
      "id": "5c98de98",
      "metadata": {
        "id": "5c98de98"
      },
      "outputs": [],
      "source": [
        "final_layer = ArgmaxLayer()\n",
        "\n",
        "# Finally we concatenate everything\n",
        "full_model = nn.Sequential(model, final_layer)"
      ]
    },
    {
      "cell_type": "markdown",
      "id": "195cf33c",
      "metadata": {
        "id": "195cf33c"
      },
      "source": [
        "We can check the results are the same."
      ]
    },
    {
      "cell_type": "code",
      "execution_count": 11,
      "id": "72e24a25",
      "metadata": {
        "id": "72e24a25",
        "outputId": "591d9fc7-6c81-4d38-f7d5-bc3ded8274d0",
        "colab": {
          "base_uri": "https://localhost:8080/"
        }
      },
      "outputs": [
        {
          "output_type": "execute_result",
          "data": {
            "text/plain": [
              "['HELLO WORLD']"
            ]
          },
          "metadata": {},
          "execution_count": 11
        }
      ],
      "source": [
        "predicted_ids = full_model(input_values)\n",
        "transcription = processor.batch_decode(predicted_ids)\n",
        "transcription"
      ]
    },
    {
      "cell_type": "markdown",
      "id": "31eccfed",
      "metadata": {
        "id": "31eccfed"
      },
      "source": [
        "Now we can export the model in ONNX format, so that we can feed later the ONNX to our BlindAI server."
      ]
    },
    {
      "cell_type": "code",
      "execution_count": 12,
      "id": "00bd9841",
      "metadata": {
        "id": "00bd9841",
        "outputId": "c9af841f-9675-4141-b5f0-eb42e669ff70",
        "colab": {
          "base_uri": "https://localhost:8080/"
        }
      },
      "outputs": [
        {
          "output_type": "stream",
          "name": "stderr",
          "text": [
            "/usr/local/lib/python3.7/dist-packages/torch/nn/functional.py:2515: UserWarning: __floordiv__ is deprecated, and its behavior will change in a future version of pytorch. It currently rounds toward 0 (like the 'trunc' function NOT 'floor'). This results in incorrect rounding for negative values. To keep the current behavior, use torch.div(a, b, rounding_mode='trunc'), or for actual floor division, use torch.div(a, b, rounding_mode='floor').\n",
            "  _verify_batch_size([input.size(0) * input.size(1) // num_groups, num_groups] + list(input.size()[2:]))\n",
            "/usr/local/lib/python3.7/dist-packages/transformers/models/wav2vec2/modeling_wav2vec2.py:578: TracerWarning: Converting a tensor to a Python boolean might cause the trace to be incorrect. We can't record the data flow of Python values, so this value will be treated as a constant in the future. This means that the trace might not generalize to other inputs!\n",
            "  if attn_weights.size() != (bsz * self.num_heads, tgt_len, src_len):\n",
            "/usr/local/lib/python3.7/dist-packages/transformers/models/wav2vec2/modeling_wav2vec2.py:617: TracerWarning: Converting a tensor to a Python boolean might cause the trace to be incorrect. We can't record the data flow of Python values, so this value will be treated as a constant in the future. This means that the trace might not generalize to other inputs!\n",
            "  if attn_output.size() != (bsz * self.num_heads, tgt_len, self.head_dim):\n"
          ]
        }
      ],
      "source": [
        "torch.onnx.export(\n",
        "    full_model,\n",
        "    input_values,\n",
        "    'wav2vec2_hello_world.onnx',\n",
        "    export_params=True,\n",
        "     opset_version = 11)"
      ]
    },
    {
      "cell_type": "markdown",
      "id": "8919ccb5",
      "metadata": {
        "id": "8919ccb5"
      },
      "source": [
        "# Deployment on BlindAI"
      ]
    },
    {
      "cell_type": "markdown",
      "source": [
        "Now we can upload the model to BlindAI Cloud. To upload of the model, make sure you have an API key.\n",
        "\n",
        "You can get one on the [Mithril Cloud](https://cloud.mithrilsecurity.io/).\n",
        "\n",
        "You might get an error if the name you want to use is already taken, as models are uniquely identified by their `model_id`. We will implement namespace soon to avoid that. Meanwhile, you will have to choose a unique ID. We provide an example below to upload your model with a unique name:"
      ],
      "metadata": {
        "id": "7MBHNvGSBs9F"
      },
      "id": "7MBHNvGSBs9F"
    },
    {
      "cell_type": "code",
      "execution_count": 14,
      "id": "155ddc68",
      "metadata": {
        "id": "155ddc68",
        "outputId": "ee176d74-80f6-4212-e430-da237c673a0b",
        "colab": {
          "base_uri": "https://localhost:8080/"
        }
      },
      "outputs": [
        {
          "output_type": "stream",
          "name": "stderr",
          "text": [
            "WARNING:blindai.client:Integrity of the model uploaded NOT verified.\n"
          ]
        }
      ],
      "source": [
        "import blindai\n",
        "import uuid\n",
        "\n",
        "api_key = \"YOUR_API_KEY\" # Enter your API key here\n",
        "model_id = \"wav2vec2-\" + str(uuid.uuid4())\n",
        "\n",
        "# Upload the ONNX file to the remote enclave\n",
        "with blindai.connect(api_key=api_key) as client:\n",
        "    response = client.upload_model(\"wav2vec2_hello_world.onnx\", model_id=model_id)"
      ]
    },
    {
      "cell_type": "markdown",
      "id": "501791e6",
      "metadata": {
        "id": "501791e6"
      },
      "source": [
        "# Sending data for confidential prediction"
      ]
    },
    {
      "cell_type": "markdown",
      "id": "a3896eb0",
      "metadata": {
        "id": "a3896eb0"
      },
      "source": [
        "Now it's time to check it's working live!\n",
        "\n",
        "We will just prepare some input for the model inside the secure enclave of BlindAI to process it."
      ]
    },
    {
      "cell_type": "markdown",
      "id": "a56eb415",
      "metadata": {
        "id": "a56eb415"
      },
      "source": [
        "First we prepare our input data, the hello world audio file."
      ]
    },
    {
      "cell_type": "code",
      "execution_count": 15,
      "id": "15799bf0",
      "metadata": {
        "id": "15799bf0",
        "outputId": "115912ee-1a4e-4533-9702-92c4f4d9305a",
        "colab": {
          "base_uri": "https://localhost:8080/"
        }
      },
      "outputs": [
        {
          "output_type": "stream",
          "name": "stderr",
          "text": [
            "/usr/local/lib/python3.7/dist-packages/librosa/core/audio.py:165: UserWarning: PySoundFile failed. Trying audioread instead.\n",
            "  warnings.warn(\"PySoundFile failed. Trying audioread instead.\")\n"
          ]
        }
      ],
      "source": [
        "from transformers import Wav2Vec2Processor, Wav2Vec2ForCTC\n",
        "import torch\n",
        "import librosa\n",
        "\n",
        "# load model and processor\n",
        "processor = Wav2Vec2Processor.from_pretrained(\"facebook/wav2vec2-base-960h\")\n",
        "\n",
        "audio, rate = librosa.load(\"hello_world.wav\", sr = 16000)\n",
        "\n",
        "# Tokenize sampled audio to input into model\n",
        "input_values = processor(audio, sampling_rate=rate, return_tensors=\"pt\", padding=\"longest\").input_values"
      ]
    },
    {
      "cell_type": "markdown",
      "id": "cb73769b",
      "metadata": {
        "id": "cb73769b"
      },
      "source": [
        "Now we can send the audio data to be processed confidentially!"
      ]
    },
    {
      "cell_type": "code",
      "execution_count": 16,
      "id": "5b48baf1",
      "metadata": {
        "id": "5b48baf1"
      },
      "outputs": [],
      "source": [
        "with blindai.connect() as client:\n",
        "  response = client.predict(model_id, input_values)"
      ]
    },
    {
      "cell_type": "markdown",
      "id": "0d89dce4",
      "metadata": {
        "id": "0d89dce4"
      },
      "source": [
        "We can reconstruct the output now:"
      ]
    },
    {
      "cell_type": "code",
      "execution_count": 17,
      "id": "24cf9d49",
      "metadata": {
        "id": "24cf9d49",
        "outputId": "6e8a2697-f05d-4093-9e76-521c8c618abd",
        "colab": {
          "base_uri": "https://localhost:8080/"
        }
      },
      "outputs": [
        {
          "output_type": "execute_result",
          "data": {
            "text/plain": [
              "['HELLO WORLD']"
            ]
          },
          "metadata": {},
          "execution_count": 17
        }
      ],
      "source": [
        "# Decode the output\n",
        "processor.batch_decode(response.output[0].as_torch().unsqueeze(0))"
      ]
    },
    {
      "cell_type": "markdown",
      "id": "d8bfb924",
      "metadata": {
        "id": "d8bfb924"
      },
      "source": [
        "Et voila! We have been able to apply a start of the art model of speech recognition, without ever having to show the data in clear to the people operating the service!\n",
        "\n",
        "If you have liked this example, do not hesitate to drop a star on our [GitHub](https://github.com/mithril-security/blindai) and chat with us on our [Discord](https://discord.gg/TxEHagpWd4)!"
      ]
    }
  ],
  "metadata": {
    "colab": {
      "collapsed_sections": [],
      "provenance": [],
      "include_colab_link": true
    },
    "kernelspec": {
      "display_name": "Python 3.9.14 64-bit",
      "language": "python",
      "name": "python3"
    },
    "language_info": {
      "codemirror_mode": {
        "name": "ipython",
        "version": 3
      },
      "file_extension": ".py",
      "mimetype": "text/x-python",
      "name": "python",
      "nbconvert_exporter": "python",
      "pygments_lexer": "ipython3"
    },
    "vscode": {
      "interpreter": {
        "hash": "767d51c1340bd893661ea55ea3124f6de3c7a262a8b4abca0554b478b1e2ff90"
      }
    },
    "widgets": {
      "application/vnd.jupyter.widget-state+json": {
        "a84f61d98c53405ab34686b8e73dfe08": {
          "model_module": "@jupyter-widgets/controls",
          "model_name": "HBoxModel",
          "model_module_version": "1.5.0",
          "state": {
            "_dom_classes": [],
            "_model_module": "@jupyter-widgets/controls",
            "_model_module_version": "1.5.0",
            "_model_name": "HBoxModel",
            "_view_count": null,
            "_view_module": "@jupyter-widgets/controls",
            "_view_module_version": "1.5.0",
            "_view_name": "HBoxView",
            "box_style": "",
            "children": [
              "IPY_MODEL_fd4e2db1018a43c7bdc9fb3633eb2045",
              "IPY_MODEL_f3a999b8d4834dde9ff084cda1e6a4e8",
              "IPY_MODEL_bd42423c46004e5ca2364240d2b1f3ee"
            ],
            "layout": "IPY_MODEL_c2173ec4153547f18e6c5526f1c2256f"
          }
        },
        "fd4e2db1018a43c7bdc9fb3633eb2045": {
          "model_module": "@jupyter-widgets/controls",
          "model_name": "HTMLModel",
          "model_module_version": "1.5.0",
          "state": {
            "_dom_classes": [],
            "_model_module": "@jupyter-widgets/controls",
            "_model_module_version": "1.5.0",
            "_model_name": "HTMLModel",
            "_view_count": null,
            "_view_module": "@jupyter-widgets/controls",
            "_view_module_version": "1.5.0",
            "_view_name": "HTMLView",
            "description": "",
            "description_tooltip": null,
            "layout": "IPY_MODEL_8f639899f4f74dca924e9a424c533242",
            "placeholder": "​",
            "style": "IPY_MODEL_83ccf86766344d29bff5113d387393da",
            "value": "Downloading preprocessor_config.json: 100%"
          }
        },
        "f3a999b8d4834dde9ff084cda1e6a4e8": {
          "model_module": "@jupyter-widgets/controls",
          "model_name": "FloatProgressModel",
          "model_module_version": "1.5.0",
          "state": {
            "_dom_classes": [],
            "_model_module": "@jupyter-widgets/controls",
            "_model_module_version": "1.5.0",
            "_model_name": "FloatProgressModel",
            "_view_count": null,
            "_view_module": "@jupyter-widgets/controls",
            "_view_module_version": "1.5.0",
            "_view_name": "ProgressView",
            "bar_style": "success",
            "description": "",
            "description_tooltip": null,
            "layout": "IPY_MODEL_f5084cb24e634dff987ea0208180fee7",
            "max": 159,
            "min": 0,
            "orientation": "horizontal",
            "style": "IPY_MODEL_1e81c5808a1e4b45aa2973a8d51420b2",
            "value": 159
          }
        },
        "bd42423c46004e5ca2364240d2b1f3ee": {
          "model_module": "@jupyter-widgets/controls",
          "model_name": "HTMLModel",
          "model_module_version": "1.5.0",
          "state": {
            "_dom_classes": [],
            "_model_module": "@jupyter-widgets/controls",
            "_model_module_version": "1.5.0",
            "_model_name": "HTMLModel",
            "_view_count": null,
            "_view_module": "@jupyter-widgets/controls",
            "_view_module_version": "1.5.0",
            "_view_name": "HTMLView",
            "description": "",
            "description_tooltip": null,
            "layout": "IPY_MODEL_3a42be6878ef4cf0af8e92bebf4db4e1",
            "placeholder": "​",
            "style": "IPY_MODEL_215bb888bfb3444d89cf3a1a6efb37c0",
            "value": " 159/159 [00:00&lt;00:00, 3.72kB/s]"
          }
        },
        "c2173ec4153547f18e6c5526f1c2256f": {
          "model_module": "@jupyter-widgets/base",
          "model_name": "LayoutModel",
          "model_module_version": "1.2.0",
          "state": {
            "_model_module": "@jupyter-widgets/base",
            "_model_module_version": "1.2.0",
            "_model_name": "LayoutModel",
            "_view_count": null,
            "_view_module": "@jupyter-widgets/base",
            "_view_module_version": "1.2.0",
            "_view_name": "LayoutView",
            "align_content": null,
            "align_items": null,
            "align_self": null,
            "border": null,
            "bottom": null,
            "display": null,
            "flex": null,
            "flex_flow": null,
            "grid_area": null,
            "grid_auto_columns": null,
            "grid_auto_flow": null,
            "grid_auto_rows": null,
            "grid_column": null,
            "grid_gap": null,
            "grid_row": null,
            "grid_template_areas": null,
            "grid_template_columns": null,
            "grid_template_rows": null,
            "height": null,
            "justify_content": null,
            "justify_items": null,
            "left": null,
            "margin": null,
            "max_height": null,
            "max_width": null,
            "min_height": null,
            "min_width": null,
            "object_fit": null,
            "object_position": null,
            "order": null,
            "overflow": null,
            "overflow_x": null,
            "overflow_y": null,
            "padding": null,
            "right": null,
            "top": null,
            "visibility": null,
            "width": null
          }
        },
        "8f639899f4f74dca924e9a424c533242": {
          "model_module": "@jupyter-widgets/base",
          "model_name": "LayoutModel",
          "model_module_version": "1.2.0",
          "state": {
            "_model_module": "@jupyter-widgets/base",
            "_model_module_version": "1.2.0",
            "_model_name": "LayoutModel",
            "_view_count": null,
            "_view_module": "@jupyter-widgets/base",
            "_view_module_version": "1.2.0",
            "_view_name": "LayoutView",
            "align_content": null,
            "align_items": null,
            "align_self": null,
            "border": null,
            "bottom": null,
            "display": null,
            "flex": null,
            "flex_flow": null,
            "grid_area": null,
            "grid_auto_columns": null,
            "grid_auto_flow": null,
            "grid_auto_rows": null,
            "grid_column": null,
            "grid_gap": null,
            "grid_row": null,
            "grid_template_areas": null,
            "grid_template_columns": null,
            "grid_template_rows": null,
            "height": null,
            "justify_content": null,
            "justify_items": null,
            "left": null,
            "margin": null,
            "max_height": null,
            "max_width": null,
            "min_height": null,
            "min_width": null,
            "object_fit": null,
            "object_position": null,
            "order": null,
            "overflow": null,
            "overflow_x": null,
            "overflow_y": null,
            "padding": null,
            "right": null,
            "top": null,
            "visibility": null,
            "width": null
          }
        },
        "83ccf86766344d29bff5113d387393da": {
          "model_module": "@jupyter-widgets/controls",
          "model_name": "DescriptionStyleModel",
          "model_module_version": "1.5.0",
          "state": {
            "_model_module": "@jupyter-widgets/controls",
            "_model_module_version": "1.5.0",
            "_model_name": "DescriptionStyleModel",
            "_view_count": null,
            "_view_module": "@jupyter-widgets/base",
            "_view_module_version": "1.2.0",
            "_view_name": "StyleView",
            "description_width": ""
          }
        },
        "f5084cb24e634dff987ea0208180fee7": {
          "model_module": "@jupyter-widgets/base",
          "model_name": "LayoutModel",
          "model_module_version": "1.2.0",
          "state": {
            "_model_module": "@jupyter-widgets/base",
            "_model_module_version": "1.2.0",
            "_model_name": "LayoutModel",
            "_view_count": null,
            "_view_module": "@jupyter-widgets/base",
            "_view_module_version": "1.2.0",
            "_view_name": "LayoutView",
            "align_content": null,
            "align_items": null,
            "align_self": null,
            "border": null,
            "bottom": null,
            "display": null,
            "flex": null,
            "flex_flow": null,
            "grid_area": null,
            "grid_auto_columns": null,
            "grid_auto_flow": null,
            "grid_auto_rows": null,
            "grid_column": null,
            "grid_gap": null,
            "grid_row": null,
            "grid_template_areas": null,
            "grid_template_columns": null,
            "grid_template_rows": null,
            "height": null,
            "justify_content": null,
            "justify_items": null,
            "left": null,
            "margin": null,
            "max_height": null,
            "max_width": null,
            "min_height": null,
            "min_width": null,
            "object_fit": null,
            "object_position": null,
            "order": null,
            "overflow": null,
            "overflow_x": null,
            "overflow_y": null,
            "padding": null,
            "right": null,
            "top": null,
            "visibility": null,
            "width": null
          }
        },
        "1e81c5808a1e4b45aa2973a8d51420b2": {
          "model_module": "@jupyter-widgets/controls",
          "model_name": "ProgressStyleModel",
          "model_module_version": "1.5.0",
          "state": {
            "_model_module": "@jupyter-widgets/controls",
            "_model_module_version": "1.5.0",
            "_model_name": "ProgressStyleModel",
            "_view_count": null,
            "_view_module": "@jupyter-widgets/base",
            "_view_module_version": "1.2.0",
            "_view_name": "StyleView",
            "bar_color": null,
            "description_width": ""
          }
        },
        "3a42be6878ef4cf0af8e92bebf4db4e1": {
          "model_module": "@jupyter-widgets/base",
          "model_name": "LayoutModel",
          "model_module_version": "1.2.0",
          "state": {
            "_model_module": "@jupyter-widgets/base",
            "_model_module_version": "1.2.0",
            "_model_name": "LayoutModel",
            "_view_count": null,
            "_view_module": "@jupyter-widgets/base",
            "_view_module_version": "1.2.0",
            "_view_name": "LayoutView",
            "align_content": null,
            "align_items": null,
            "align_self": null,
            "border": null,
            "bottom": null,
            "display": null,
            "flex": null,
            "flex_flow": null,
            "grid_area": null,
            "grid_auto_columns": null,
            "grid_auto_flow": null,
            "grid_auto_rows": null,
            "grid_column": null,
            "grid_gap": null,
            "grid_row": null,
            "grid_template_areas": null,
            "grid_template_columns": null,
            "grid_template_rows": null,
            "height": null,
            "justify_content": null,
            "justify_items": null,
            "left": null,
            "margin": null,
            "max_height": null,
            "max_width": null,
            "min_height": null,
            "min_width": null,
            "object_fit": null,
            "object_position": null,
            "order": null,
            "overflow": null,
            "overflow_x": null,
            "overflow_y": null,
            "padding": null,
            "right": null,
            "top": null,
            "visibility": null,
            "width": null
          }
        },
        "215bb888bfb3444d89cf3a1a6efb37c0": {
          "model_module": "@jupyter-widgets/controls",
          "model_name": "DescriptionStyleModel",
          "model_module_version": "1.5.0",
          "state": {
            "_model_module": "@jupyter-widgets/controls",
            "_model_module_version": "1.5.0",
            "_model_name": "DescriptionStyleModel",
            "_view_count": null,
            "_view_module": "@jupyter-widgets/base",
            "_view_module_version": "1.2.0",
            "_view_name": "StyleView",
            "description_width": ""
          }
        },
        "c9cdeb60d66540fdb82eb2df2c6f1e5c": {
          "model_module": "@jupyter-widgets/controls",
          "model_name": "HBoxModel",
          "model_module_version": "1.5.0",
          "state": {
            "_dom_classes": [],
            "_model_module": "@jupyter-widgets/controls",
            "_model_module_version": "1.5.0",
            "_model_name": "HBoxModel",
            "_view_count": null,
            "_view_module": "@jupyter-widgets/controls",
            "_view_module_version": "1.5.0",
            "_view_name": "HBoxView",
            "box_style": "",
            "children": [
              "IPY_MODEL_9bd5f4e896224679a0fb96048dd46aae",
              "IPY_MODEL_ad947af846684da3a098b3d8a6dae1a7",
              "IPY_MODEL_14d560b2e9354f75aaa760b7b928342f"
            ],
            "layout": "IPY_MODEL_0397ef2fad2a45439cd218ff1f8337d6"
          }
        },
        "9bd5f4e896224679a0fb96048dd46aae": {
          "model_module": "@jupyter-widgets/controls",
          "model_name": "HTMLModel",
          "model_module_version": "1.5.0",
          "state": {
            "_dom_classes": [],
            "_model_module": "@jupyter-widgets/controls",
            "_model_module_version": "1.5.0",
            "_model_name": "HTMLModel",
            "_view_count": null,
            "_view_module": "@jupyter-widgets/controls",
            "_view_module_version": "1.5.0",
            "_view_name": "HTMLView",
            "description": "",
            "description_tooltip": null,
            "layout": "IPY_MODEL_14ca8c6a12e048ce860f5acb073c7b75",
            "placeholder": "​",
            "style": "IPY_MODEL_e1195e65baa84992a3e6090544f23a66",
            "value": "Downloading tokenizer_config.json: 100%"
          }
        },
        "ad947af846684da3a098b3d8a6dae1a7": {
          "model_module": "@jupyter-widgets/controls",
          "model_name": "FloatProgressModel",
          "model_module_version": "1.5.0",
          "state": {
            "_dom_classes": [],
            "_model_module": "@jupyter-widgets/controls",
            "_model_module_version": "1.5.0",
            "_model_name": "FloatProgressModel",
            "_view_count": null,
            "_view_module": "@jupyter-widgets/controls",
            "_view_module_version": "1.5.0",
            "_view_name": "ProgressView",
            "bar_style": "success",
            "description": "",
            "description_tooltip": null,
            "layout": "IPY_MODEL_e6715e8576164f84839fcb27a629d244",
            "max": 163,
            "min": 0,
            "orientation": "horizontal",
            "style": "IPY_MODEL_a9943c920b014f4480f1ee02aacedaa5",
            "value": 163
          }
        },
        "14d560b2e9354f75aaa760b7b928342f": {
          "model_module": "@jupyter-widgets/controls",
          "model_name": "HTMLModel",
          "model_module_version": "1.5.0",
          "state": {
            "_dom_classes": [],
            "_model_module": "@jupyter-widgets/controls",
            "_model_module_version": "1.5.0",
            "_model_name": "HTMLModel",
            "_view_count": null,
            "_view_module": "@jupyter-widgets/controls",
            "_view_module_version": "1.5.0",
            "_view_name": "HTMLView",
            "description": "",
            "description_tooltip": null,
            "layout": "IPY_MODEL_c3e0218a557546a2a353900cdcea61ef",
            "placeholder": "​",
            "style": "IPY_MODEL_e305e0dc51ca4e4da5a8e3b0b2105a30",
            "value": " 163/163 [00:00&lt;00:00, 3.66kB/s]"
          }
        },
        "0397ef2fad2a45439cd218ff1f8337d6": {
          "model_module": "@jupyter-widgets/base",
          "model_name": "LayoutModel",
          "model_module_version": "1.2.0",
          "state": {
            "_model_module": "@jupyter-widgets/base",
            "_model_module_version": "1.2.0",
            "_model_name": "LayoutModel",
            "_view_count": null,
            "_view_module": "@jupyter-widgets/base",
            "_view_module_version": "1.2.0",
            "_view_name": "LayoutView",
            "align_content": null,
            "align_items": null,
            "align_self": null,
            "border": null,
            "bottom": null,
            "display": null,
            "flex": null,
            "flex_flow": null,
            "grid_area": null,
            "grid_auto_columns": null,
            "grid_auto_flow": null,
            "grid_auto_rows": null,
            "grid_column": null,
            "grid_gap": null,
            "grid_row": null,
            "grid_template_areas": null,
            "grid_template_columns": null,
            "grid_template_rows": null,
            "height": null,
            "justify_content": null,
            "justify_items": null,
            "left": null,
            "margin": null,
            "max_height": null,
            "max_width": null,
            "min_height": null,
            "min_width": null,
            "object_fit": null,
            "object_position": null,
            "order": null,
            "overflow": null,
            "overflow_x": null,
            "overflow_y": null,
            "padding": null,
            "right": null,
            "top": null,
            "visibility": null,
            "width": null
          }
        },
        "14ca8c6a12e048ce860f5acb073c7b75": {
          "model_module": "@jupyter-widgets/base",
          "model_name": "LayoutModel",
          "model_module_version": "1.2.0",
          "state": {
            "_model_module": "@jupyter-widgets/base",
            "_model_module_version": "1.2.0",
            "_model_name": "LayoutModel",
            "_view_count": null,
            "_view_module": "@jupyter-widgets/base",
            "_view_module_version": "1.2.0",
            "_view_name": "LayoutView",
            "align_content": null,
            "align_items": null,
            "align_self": null,
            "border": null,
            "bottom": null,
            "display": null,
            "flex": null,
            "flex_flow": null,
            "grid_area": null,
            "grid_auto_columns": null,
            "grid_auto_flow": null,
            "grid_auto_rows": null,
            "grid_column": null,
            "grid_gap": null,
            "grid_row": null,
            "grid_template_areas": null,
            "grid_template_columns": null,
            "grid_template_rows": null,
            "height": null,
            "justify_content": null,
            "justify_items": null,
            "left": null,
            "margin": null,
            "max_height": null,
            "max_width": null,
            "min_height": null,
            "min_width": null,
            "object_fit": null,
            "object_position": null,
            "order": null,
            "overflow": null,
            "overflow_x": null,
            "overflow_y": null,
            "padding": null,
            "right": null,
            "top": null,
            "visibility": null,
            "width": null
          }
        },
        "e1195e65baa84992a3e6090544f23a66": {
          "model_module": "@jupyter-widgets/controls",
          "model_name": "DescriptionStyleModel",
          "model_module_version": "1.5.0",
          "state": {
            "_model_module": "@jupyter-widgets/controls",
            "_model_module_version": "1.5.0",
            "_model_name": "DescriptionStyleModel",
            "_view_count": null,
            "_view_module": "@jupyter-widgets/base",
            "_view_module_version": "1.2.0",
            "_view_name": "StyleView",
            "description_width": ""
          }
        },
        "e6715e8576164f84839fcb27a629d244": {
          "model_module": "@jupyter-widgets/base",
          "model_name": "LayoutModel",
          "model_module_version": "1.2.0",
          "state": {
            "_model_module": "@jupyter-widgets/base",
            "_model_module_version": "1.2.0",
            "_model_name": "LayoutModel",
            "_view_count": null,
            "_view_module": "@jupyter-widgets/base",
            "_view_module_version": "1.2.0",
            "_view_name": "LayoutView",
            "align_content": null,
            "align_items": null,
            "align_self": null,
            "border": null,
            "bottom": null,
            "display": null,
            "flex": null,
            "flex_flow": null,
            "grid_area": null,
            "grid_auto_columns": null,
            "grid_auto_flow": null,
            "grid_auto_rows": null,
            "grid_column": null,
            "grid_gap": null,
            "grid_row": null,
            "grid_template_areas": null,
            "grid_template_columns": null,
            "grid_template_rows": null,
            "height": null,
            "justify_content": null,
            "justify_items": null,
            "left": null,
            "margin": null,
            "max_height": null,
            "max_width": null,
            "min_height": null,
            "min_width": null,
            "object_fit": null,
            "object_position": null,
            "order": null,
            "overflow": null,
            "overflow_x": null,
            "overflow_y": null,
            "padding": null,
            "right": null,
            "top": null,
            "visibility": null,
            "width": null
          }
        },
        "a9943c920b014f4480f1ee02aacedaa5": {
          "model_module": "@jupyter-widgets/controls",
          "model_name": "ProgressStyleModel",
          "model_module_version": "1.5.0",
          "state": {
            "_model_module": "@jupyter-widgets/controls",
            "_model_module_version": "1.5.0",
            "_model_name": "ProgressStyleModel",
            "_view_count": null,
            "_view_module": "@jupyter-widgets/base",
            "_view_module_version": "1.2.0",
            "_view_name": "StyleView",
            "bar_color": null,
            "description_width": ""
          }
        },
        "c3e0218a557546a2a353900cdcea61ef": {
          "model_module": "@jupyter-widgets/base",
          "model_name": "LayoutModel",
          "model_module_version": "1.2.0",
          "state": {
            "_model_module": "@jupyter-widgets/base",
            "_model_module_version": "1.2.0",
            "_model_name": "LayoutModel",
            "_view_count": null,
            "_view_module": "@jupyter-widgets/base",
            "_view_module_version": "1.2.0",
            "_view_name": "LayoutView",
            "align_content": null,
            "align_items": null,
            "align_self": null,
            "border": null,
            "bottom": null,
            "display": null,
            "flex": null,
            "flex_flow": null,
            "grid_area": null,
            "grid_auto_columns": null,
            "grid_auto_flow": null,
            "grid_auto_rows": null,
            "grid_column": null,
            "grid_gap": null,
            "grid_row": null,
            "grid_template_areas": null,
            "grid_template_columns": null,
            "grid_template_rows": null,
            "height": null,
            "justify_content": null,
            "justify_items": null,
            "left": null,
            "margin": null,
            "max_height": null,
            "max_width": null,
            "min_height": null,
            "min_width": null,
            "object_fit": null,
            "object_position": null,
            "order": null,
            "overflow": null,
            "overflow_x": null,
            "overflow_y": null,
            "padding": null,
            "right": null,
            "top": null,
            "visibility": null,
            "width": null
          }
        },
        "e305e0dc51ca4e4da5a8e3b0b2105a30": {
          "model_module": "@jupyter-widgets/controls",
          "model_name": "DescriptionStyleModel",
          "model_module_version": "1.5.0",
          "state": {
            "_model_module": "@jupyter-widgets/controls",
            "_model_module_version": "1.5.0",
            "_model_name": "DescriptionStyleModel",
            "_view_count": null,
            "_view_module": "@jupyter-widgets/base",
            "_view_module_version": "1.2.0",
            "_view_name": "StyleView",
            "description_width": ""
          }
        },
        "95f668a98a494dd6b69c3536bc6e00bd": {
          "model_module": "@jupyter-widgets/controls",
          "model_name": "HBoxModel",
          "model_module_version": "1.5.0",
          "state": {
            "_dom_classes": [],
            "_model_module": "@jupyter-widgets/controls",
            "_model_module_version": "1.5.0",
            "_model_name": "HBoxModel",
            "_view_count": null,
            "_view_module": "@jupyter-widgets/controls",
            "_view_module_version": "1.5.0",
            "_view_name": "HBoxView",
            "box_style": "",
            "children": [
              "IPY_MODEL_51f66f9436304f82a0e92533b1051f67",
              "IPY_MODEL_8669655c98854f63b96cac90bc516fa7",
              "IPY_MODEL_2e8109b3aa2f422ca46b7c20d7366f0e"
            ],
            "layout": "IPY_MODEL_4bed5c970f1644ddacc613c39e25ede4"
          }
        },
        "51f66f9436304f82a0e92533b1051f67": {
          "model_module": "@jupyter-widgets/controls",
          "model_name": "HTMLModel",
          "model_module_version": "1.5.0",
          "state": {
            "_dom_classes": [],
            "_model_module": "@jupyter-widgets/controls",
            "_model_module_version": "1.5.0",
            "_model_name": "HTMLModel",
            "_view_count": null,
            "_view_module": "@jupyter-widgets/controls",
            "_view_module_version": "1.5.0",
            "_view_name": "HTMLView",
            "description": "",
            "description_tooltip": null,
            "layout": "IPY_MODEL_b9c7af0071f640d1844a5a3ac0c5003a",
            "placeholder": "​",
            "style": "IPY_MODEL_6f3feea7b31c4e1da173e858b2e6eddb",
            "value": "Downloading config.json: 100%"
          }
        },
        "8669655c98854f63b96cac90bc516fa7": {
          "model_module": "@jupyter-widgets/controls",
          "model_name": "FloatProgressModel",
          "model_module_version": "1.5.0",
          "state": {
            "_dom_classes": [],
            "_model_module": "@jupyter-widgets/controls",
            "_model_module_version": "1.5.0",
            "_model_name": "FloatProgressModel",
            "_view_count": null,
            "_view_module": "@jupyter-widgets/controls",
            "_view_module_version": "1.5.0",
            "_view_name": "ProgressView",
            "bar_style": "success",
            "description": "",
            "description_tooltip": null,
            "layout": "IPY_MODEL_0277abc0932c44dcbbf77f2de1995cb0",
            "max": 1596,
            "min": 0,
            "orientation": "horizontal",
            "style": "IPY_MODEL_95fa30e6bcdc4656a05e45d21ff7197c",
            "value": 1596
          }
        },
        "2e8109b3aa2f422ca46b7c20d7366f0e": {
          "model_module": "@jupyter-widgets/controls",
          "model_name": "HTMLModel",
          "model_module_version": "1.5.0",
          "state": {
            "_dom_classes": [],
            "_model_module": "@jupyter-widgets/controls",
            "_model_module_version": "1.5.0",
            "_model_name": "HTMLModel",
            "_view_count": null,
            "_view_module": "@jupyter-widgets/controls",
            "_view_module_version": "1.5.0",
            "_view_name": "HTMLView",
            "description": "",
            "description_tooltip": null,
            "layout": "IPY_MODEL_c3b59e84c2a5465cb19b564a22380200",
            "placeholder": "​",
            "style": "IPY_MODEL_7bcddc50a855418389357bb1f93b8ec6",
            "value": " 1.56k/1.56k [00:00&lt;00:00, 26.6kB/s]"
          }
        },
        "4bed5c970f1644ddacc613c39e25ede4": {
          "model_module": "@jupyter-widgets/base",
          "model_name": "LayoutModel",
          "model_module_version": "1.2.0",
          "state": {
            "_model_module": "@jupyter-widgets/base",
            "_model_module_version": "1.2.0",
            "_model_name": "LayoutModel",
            "_view_count": null,
            "_view_module": "@jupyter-widgets/base",
            "_view_module_version": "1.2.0",
            "_view_name": "LayoutView",
            "align_content": null,
            "align_items": null,
            "align_self": null,
            "border": null,
            "bottom": null,
            "display": null,
            "flex": null,
            "flex_flow": null,
            "grid_area": null,
            "grid_auto_columns": null,
            "grid_auto_flow": null,
            "grid_auto_rows": null,
            "grid_column": null,
            "grid_gap": null,
            "grid_row": null,
            "grid_template_areas": null,
            "grid_template_columns": null,
            "grid_template_rows": null,
            "height": null,
            "justify_content": null,
            "justify_items": null,
            "left": null,
            "margin": null,
            "max_height": null,
            "max_width": null,
            "min_height": null,
            "min_width": null,
            "object_fit": null,
            "object_position": null,
            "order": null,
            "overflow": null,
            "overflow_x": null,
            "overflow_y": null,
            "padding": null,
            "right": null,
            "top": null,
            "visibility": null,
            "width": null
          }
        },
        "b9c7af0071f640d1844a5a3ac0c5003a": {
          "model_module": "@jupyter-widgets/base",
          "model_name": "LayoutModel",
          "model_module_version": "1.2.0",
          "state": {
            "_model_module": "@jupyter-widgets/base",
            "_model_module_version": "1.2.0",
            "_model_name": "LayoutModel",
            "_view_count": null,
            "_view_module": "@jupyter-widgets/base",
            "_view_module_version": "1.2.0",
            "_view_name": "LayoutView",
            "align_content": null,
            "align_items": null,
            "align_self": null,
            "border": null,
            "bottom": null,
            "display": null,
            "flex": null,
            "flex_flow": null,
            "grid_area": null,
            "grid_auto_columns": null,
            "grid_auto_flow": null,
            "grid_auto_rows": null,
            "grid_column": null,
            "grid_gap": null,
            "grid_row": null,
            "grid_template_areas": null,
            "grid_template_columns": null,
            "grid_template_rows": null,
            "height": null,
            "justify_content": null,
            "justify_items": null,
            "left": null,
            "margin": null,
            "max_height": null,
            "max_width": null,
            "min_height": null,
            "min_width": null,
            "object_fit": null,
            "object_position": null,
            "order": null,
            "overflow": null,
            "overflow_x": null,
            "overflow_y": null,
            "padding": null,
            "right": null,
            "top": null,
            "visibility": null,
            "width": null
          }
        },
        "6f3feea7b31c4e1da173e858b2e6eddb": {
          "model_module": "@jupyter-widgets/controls",
          "model_name": "DescriptionStyleModel",
          "model_module_version": "1.5.0",
          "state": {
            "_model_module": "@jupyter-widgets/controls",
            "_model_module_version": "1.5.0",
            "_model_name": "DescriptionStyleModel",
            "_view_count": null,
            "_view_module": "@jupyter-widgets/base",
            "_view_module_version": "1.2.0",
            "_view_name": "StyleView",
            "description_width": ""
          }
        },
        "0277abc0932c44dcbbf77f2de1995cb0": {
          "model_module": "@jupyter-widgets/base",
          "model_name": "LayoutModel",
          "model_module_version": "1.2.0",
          "state": {
            "_model_module": "@jupyter-widgets/base",
            "_model_module_version": "1.2.0",
            "_model_name": "LayoutModel",
            "_view_count": null,
            "_view_module": "@jupyter-widgets/base",
            "_view_module_version": "1.2.0",
            "_view_name": "LayoutView",
            "align_content": null,
            "align_items": null,
            "align_self": null,
            "border": null,
            "bottom": null,
            "display": null,
            "flex": null,
            "flex_flow": null,
            "grid_area": null,
            "grid_auto_columns": null,
            "grid_auto_flow": null,
            "grid_auto_rows": null,
            "grid_column": null,
            "grid_gap": null,
            "grid_row": null,
            "grid_template_areas": null,
            "grid_template_columns": null,
            "grid_template_rows": null,
            "height": null,
            "justify_content": null,
            "justify_items": null,
            "left": null,
            "margin": null,
            "max_height": null,
            "max_width": null,
            "min_height": null,
            "min_width": null,
            "object_fit": null,
            "object_position": null,
            "order": null,
            "overflow": null,
            "overflow_x": null,
            "overflow_y": null,
            "padding": null,
            "right": null,
            "top": null,
            "visibility": null,
            "width": null
          }
        },
        "95fa30e6bcdc4656a05e45d21ff7197c": {
          "model_module": "@jupyter-widgets/controls",
          "model_name": "ProgressStyleModel",
          "model_module_version": "1.5.0",
          "state": {
            "_model_module": "@jupyter-widgets/controls",
            "_model_module_version": "1.5.0",
            "_model_name": "ProgressStyleModel",
            "_view_count": null,
            "_view_module": "@jupyter-widgets/base",
            "_view_module_version": "1.2.0",
            "_view_name": "StyleView",
            "bar_color": null,
            "description_width": ""
          }
        },
        "c3b59e84c2a5465cb19b564a22380200": {
          "model_module": "@jupyter-widgets/base",
          "model_name": "LayoutModel",
          "model_module_version": "1.2.0",
          "state": {
            "_model_module": "@jupyter-widgets/base",
            "_model_module_version": "1.2.0",
            "_model_name": "LayoutModel",
            "_view_count": null,
            "_view_module": "@jupyter-widgets/base",
            "_view_module_version": "1.2.0",
            "_view_name": "LayoutView",
            "align_content": null,
            "align_items": null,
            "align_self": null,
            "border": null,
            "bottom": null,
            "display": null,
            "flex": null,
            "flex_flow": null,
            "grid_area": null,
            "grid_auto_columns": null,
            "grid_auto_flow": null,
            "grid_auto_rows": null,
            "grid_column": null,
            "grid_gap": null,
            "grid_row": null,
            "grid_template_areas": null,
            "grid_template_columns": null,
            "grid_template_rows": null,
            "height": null,
            "justify_content": null,
            "justify_items": null,
            "left": null,
            "margin": null,
            "max_height": null,
            "max_width": null,
            "min_height": null,
            "min_width": null,
            "object_fit": null,
            "object_position": null,
            "order": null,
            "overflow": null,
            "overflow_x": null,
            "overflow_y": null,
            "padding": null,
            "right": null,
            "top": null,
            "visibility": null,
            "width": null
          }
        },
        "7bcddc50a855418389357bb1f93b8ec6": {
          "model_module": "@jupyter-widgets/controls",
          "model_name": "DescriptionStyleModel",
          "model_module_version": "1.5.0",
          "state": {
            "_model_module": "@jupyter-widgets/controls",
            "_model_module_version": "1.5.0",
            "_model_name": "DescriptionStyleModel",
            "_view_count": null,
            "_view_module": "@jupyter-widgets/base",
            "_view_module_version": "1.2.0",
            "_view_name": "StyleView",
            "description_width": ""
          }
        },
        "6184b4f062e94c89902fa5608fd15654": {
          "model_module": "@jupyter-widgets/controls",
          "model_name": "HBoxModel",
          "model_module_version": "1.5.0",
          "state": {
            "_dom_classes": [],
            "_model_module": "@jupyter-widgets/controls",
            "_model_module_version": "1.5.0",
            "_model_name": "HBoxModel",
            "_view_count": null,
            "_view_module": "@jupyter-widgets/controls",
            "_view_module_version": "1.5.0",
            "_view_name": "HBoxView",
            "box_style": "",
            "children": [
              "IPY_MODEL_f09ab82207cd45a8b92c176c1858541c",
              "IPY_MODEL_f83f2172b2e244da86c74c0dad8951a2",
              "IPY_MODEL_6579438057e747aea0dbcb1e0c0ee67c"
            ],
            "layout": "IPY_MODEL_0d0574c23608409e9c5e458da34f1e42"
          }
        },
        "f09ab82207cd45a8b92c176c1858541c": {
          "model_module": "@jupyter-widgets/controls",
          "model_name": "HTMLModel",
          "model_module_version": "1.5.0",
          "state": {
            "_dom_classes": [],
            "_model_module": "@jupyter-widgets/controls",
            "_model_module_version": "1.5.0",
            "_model_name": "HTMLModel",
            "_view_count": null,
            "_view_module": "@jupyter-widgets/controls",
            "_view_module_version": "1.5.0",
            "_view_name": "HTMLView",
            "description": "",
            "description_tooltip": null,
            "layout": "IPY_MODEL_3c9a17b9104b40f2a6c9c6154c1b18d7",
            "placeholder": "​",
            "style": "IPY_MODEL_03b65ed04c8642bc9417ae80a7062a8c",
            "value": "Downloading vocab.json: 100%"
          }
        },
        "f83f2172b2e244da86c74c0dad8951a2": {
          "model_module": "@jupyter-widgets/controls",
          "model_name": "FloatProgressModel",
          "model_module_version": "1.5.0",
          "state": {
            "_dom_classes": [],
            "_model_module": "@jupyter-widgets/controls",
            "_model_module_version": "1.5.0",
            "_model_name": "FloatProgressModel",
            "_view_count": null,
            "_view_module": "@jupyter-widgets/controls",
            "_view_module_version": "1.5.0",
            "_view_name": "ProgressView",
            "bar_style": "success",
            "description": "",
            "description_tooltip": null,
            "layout": "IPY_MODEL_49e75c2181ab4bf9a7faba56c408c0e2",
            "max": 291,
            "min": 0,
            "orientation": "horizontal",
            "style": "IPY_MODEL_3286dedc3550464eb299a9c765696d91",
            "value": 291
          }
        },
        "6579438057e747aea0dbcb1e0c0ee67c": {
          "model_module": "@jupyter-widgets/controls",
          "model_name": "HTMLModel",
          "model_module_version": "1.5.0",
          "state": {
            "_dom_classes": [],
            "_model_module": "@jupyter-widgets/controls",
            "_model_module_version": "1.5.0",
            "_model_name": "HTMLModel",
            "_view_count": null,
            "_view_module": "@jupyter-widgets/controls",
            "_view_module_version": "1.5.0",
            "_view_name": "HTMLView",
            "description": "",
            "description_tooltip": null,
            "layout": "IPY_MODEL_a2364e46b5204789ac9aa1316ff3337b",
            "placeholder": "​",
            "style": "IPY_MODEL_cf2f7b43bfa9454a8c68304d4eba3f09",
            "value": " 291/291 [00:00&lt;00:00, 3.95kB/s]"
          }
        },
        "0d0574c23608409e9c5e458da34f1e42": {
          "model_module": "@jupyter-widgets/base",
          "model_name": "LayoutModel",
          "model_module_version": "1.2.0",
          "state": {
            "_model_module": "@jupyter-widgets/base",
            "_model_module_version": "1.2.0",
            "_model_name": "LayoutModel",
            "_view_count": null,
            "_view_module": "@jupyter-widgets/base",
            "_view_module_version": "1.2.0",
            "_view_name": "LayoutView",
            "align_content": null,
            "align_items": null,
            "align_self": null,
            "border": null,
            "bottom": null,
            "display": null,
            "flex": null,
            "flex_flow": null,
            "grid_area": null,
            "grid_auto_columns": null,
            "grid_auto_flow": null,
            "grid_auto_rows": null,
            "grid_column": null,
            "grid_gap": null,
            "grid_row": null,
            "grid_template_areas": null,
            "grid_template_columns": null,
            "grid_template_rows": null,
            "height": null,
            "justify_content": null,
            "justify_items": null,
            "left": null,
            "margin": null,
            "max_height": null,
            "max_width": null,
            "min_height": null,
            "min_width": null,
            "object_fit": null,
            "object_position": null,
            "order": null,
            "overflow": null,
            "overflow_x": null,
            "overflow_y": null,
            "padding": null,
            "right": null,
            "top": null,
            "visibility": null,
            "width": null
          }
        },
        "3c9a17b9104b40f2a6c9c6154c1b18d7": {
          "model_module": "@jupyter-widgets/base",
          "model_name": "LayoutModel",
          "model_module_version": "1.2.0",
          "state": {
            "_model_module": "@jupyter-widgets/base",
            "_model_module_version": "1.2.0",
            "_model_name": "LayoutModel",
            "_view_count": null,
            "_view_module": "@jupyter-widgets/base",
            "_view_module_version": "1.2.0",
            "_view_name": "LayoutView",
            "align_content": null,
            "align_items": null,
            "align_self": null,
            "border": null,
            "bottom": null,
            "display": null,
            "flex": null,
            "flex_flow": null,
            "grid_area": null,
            "grid_auto_columns": null,
            "grid_auto_flow": null,
            "grid_auto_rows": null,
            "grid_column": null,
            "grid_gap": null,
            "grid_row": null,
            "grid_template_areas": null,
            "grid_template_columns": null,
            "grid_template_rows": null,
            "height": null,
            "justify_content": null,
            "justify_items": null,
            "left": null,
            "margin": null,
            "max_height": null,
            "max_width": null,
            "min_height": null,
            "min_width": null,
            "object_fit": null,
            "object_position": null,
            "order": null,
            "overflow": null,
            "overflow_x": null,
            "overflow_y": null,
            "padding": null,
            "right": null,
            "top": null,
            "visibility": null,
            "width": null
          }
        },
        "03b65ed04c8642bc9417ae80a7062a8c": {
          "model_module": "@jupyter-widgets/controls",
          "model_name": "DescriptionStyleModel",
          "model_module_version": "1.5.0",
          "state": {
            "_model_module": "@jupyter-widgets/controls",
            "_model_module_version": "1.5.0",
            "_model_name": "DescriptionStyleModel",
            "_view_count": null,
            "_view_module": "@jupyter-widgets/base",
            "_view_module_version": "1.2.0",
            "_view_name": "StyleView",
            "description_width": ""
          }
        },
        "49e75c2181ab4bf9a7faba56c408c0e2": {
          "model_module": "@jupyter-widgets/base",
          "model_name": "LayoutModel",
          "model_module_version": "1.2.0",
          "state": {
            "_model_module": "@jupyter-widgets/base",
            "_model_module_version": "1.2.0",
            "_model_name": "LayoutModel",
            "_view_count": null,
            "_view_module": "@jupyter-widgets/base",
            "_view_module_version": "1.2.0",
            "_view_name": "LayoutView",
            "align_content": null,
            "align_items": null,
            "align_self": null,
            "border": null,
            "bottom": null,
            "display": null,
            "flex": null,
            "flex_flow": null,
            "grid_area": null,
            "grid_auto_columns": null,
            "grid_auto_flow": null,
            "grid_auto_rows": null,
            "grid_column": null,
            "grid_gap": null,
            "grid_row": null,
            "grid_template_areas": null,
            "grid_template_columns": null,
            "grid_template_rows": null,
            "height": null,
            "justify_content": null,
            "justify_items": null,
            "left": null,
            "margin": null,
            "max_height": null,
            "max_width": null,
            "min_height": null,
            "min_width": null,
            "object_fit": null,
            "object_position": null,
            "order": null,
            "overflow": null,
            "overflow_x": null,
            "overflow_y": null,
            "padding": null,
            "right": null,
            "top": null,
            "visibility": null,
            "width": null
          }
        },
        "3286dedc3550464eb299a9c765696d91": {
          "model_module": "@jupyter-widgets/controls",
          "model_name": "ProgressStyleModel",
          "model_module_version": "1.5.0",
          "state": {
            "_model_module": "@jupyter-widgets/controls",
            "_model_module_version": "1.5.0",
            "_model_name": "ProgressStyleModel",
            "_view_count": null,
            "_view_module": "@jupyter-widgets/base",
            "_view_module_version": "1.2.0",
            "_view_name": "StyleView",
            "bar_color": null,
            "description_width": ""
          }
        },
        "a2364e46b5204789ac9aa1316ff3337b": {
          "model_module": "@jupyter-widgets/base",
          "model_name": "LayoutModel",
          "model_module_version": "1.2.0",
          "state": {
            "_model_module": "@jupyter-widgets/base",
            "_model_module_version": "1.2.0",
            "_model_name": "LayoutModel",
            "_view_count": null,
            "_view_module": "@jupyter-widgets/base",
            "_view_module_version": "1.2.0",
            "_view_name": "LayoutView",
            "align_content": null,
            "align_items": null,
            "align_self": null,
            "border": null,
            "bottom": null,
            "display": null,
            "flex": null,
            "flex_flow": null,
            "grid_area": null,
            "grid_auto_columns": null,
            "grid_auto_flow": null,
            "grid_auto_rows": null,
            "grid_column": null,
            "grid_gap": null,
            "grid_row": null,
            "grid_template_areas": null,
            "grid_template_columns": null,
            "grid_template_rows": null,
            "height": null,
            "justify_content": null,
            "justify_items": null,
            "left": null,
            "margin": null,
            "max_height": null,
            "max_width": null,
            "min_height": null,
            "min_width": null,
            "object_fit": null,
            "object_position": null,
            "order": null,
            "overflow": null,
            "overflow_x": null,
            "overflow_y": null,
            "padding": null,
            "right": null,
            "top": null,
            "visibility": null,
            "width": null
          }
        },
        "cf2f7b43bfa9454a8c68304d4eba3f09": {
          "model_module": "@jupyter-widgets/controls",
          "model_name": "DescriptionStyleModel",
          "model_module_version": "1.5.0",
          "state": {
            "_model_module": "@jupyter-widgets/controls",
            "_model_module_version": "1.5.0",
            "_model_name": "DescriptionStyleModel",
            "_view_count": null,
            "_view_module": "@jupyter-widgets/base",
            "_view_module_version": "1.2.0",
            "_view_name": "StyleView",
            "description_width": ""
          }
        },
        "2129b682facb4a2485c29a942f4d7f74": {
          "model_module": "@jupyter-widgets/controls",
          "model_name": "HBoxModel",
          "model_module_version": "1.5.0",
          "state": {
            "_dom_classes": [],
            "_model_module": "@jupyter-widgets/controls",
            "_model_module_version": "1.5.0",
            "_model_name": "HBoxModel",
            "_view_count": null,
            "_view_module": "@jupyter-widgets/controls",
            "_view_module_version": "1.5.0",
            "_view_name": "HBoxView",
            "box_style": "",
            "children": [
              "IPY_MODEL_f56cd21ab9bb476c97aedb7bd2968d68",
              "IPY_MODEL_6155a5c14d8c4cce97d93bd9925d785b",
              "IPY_MODEL_4805ac692a5044459de8558b68542b2a"
            ],
            "layout": "IPY_MODEL_c03ef6baaff944c8b7ca2b0dde5febeb"
          }
        },
        "f56cd21ab9bb476c97aedb7bd2968d68": {
          "model_module": "@jupyter-widgets/controls",
          "model_name": "HTMLModel",
          "model_module_version": "1.5.0",
          "state": {
            "_dom_classes": [],
            "_model_module": "@jupyter-widgets/controls",
            "_model_module_version": "1.5.0",
            "_model_name": "HTMLModel",
            "_view_count": null,
            "_view_module": "@jupyter-widgets/controls",
            "_view_module_version": "1.5.0",
            "_view_name": "HTMLView",
            "description": "",
            "description_tooltip": null,
            "layout": "IPY_MODEL_ae053c5ce61048e7b3a6a4de797121f7",
            "placeholder": "​",
            "style": "IPY_MODEL_fe8c232f15d942e89179aa569f324431",
            "value": "Downloading special_tokens_map.json: 100%"
          }
        },
        "6155a5c14d8c4cce97d93bd9925d785b": {
          "model_module": "@jupyter-widgets/controls",
          "model_name": "FloatProgressModel",
          "model_module_version": "1.5.0",
          "state": {
            "_dom_classes": [],
            "_model_module": "@jupyter-widgets/controls",
            "_model_module_version": "1.5.0",
            "_model_name": "FloatProgressModel",
            "_view_count": null,
            "_view_module": "@jupyter-widgets/controls",
            "_view_module_version": "1.5.0",
            "_view_name": "ProgressView",
            "bar_style": "success",
            "description": "",
            "description_tooltip": null,
            "layout": "IPY_MODEL_22bea1c94ad24c50a90c9016b59f847f",
            "max": 85,
            "min": 0,
            "orientation": "horizontal",
            "style": "IPY_MODEL_f8b260e77a414b6ca7680d035eb593d3",
            "value": 85
          }
        },
        "4805ac692a5044459de8558b68542b2a": {
          "model_module": "@jupyter-widgets/controls",
          "model_name": "HTMLModel",
          "model_module_version": "1.5.0",
          "state": {
            "_dom_classes": [],
            "_model_module": "@jupyter-widgets/controls",
            "_model_module_version": "1.5.0",
            "_model_name": "HTMLModel",
            "_view_count": null,
            "_view_module": "@jupyter-widgets/controls",
            "_view_module_version": "1.5.0",
            "_view_name": "HTMLView",
            "description": "",
            "description_tooltip": null,
            "layout": "IPY_MODEL_d3d5781b5c4d46bf86de25ddb6034742",
            "placeholder": "​",
            "style": "IPY_MODEL_c023810798ad4d6aaf5b00397f4b9662",
            "value": " 85.0/85.0 [00:00&lt;00:00, 1.69kB/s]"
          }
        },
        "c03ef6baaff944c8b7ca2b0dde5febeb": {
          "model_module": "@jupyter-widgets/base",
          "model_name": "LayoutModel",
          "model_module_version": "1.2.0",
          "state": {
            "_model_module": "@jupyter-widgets/base",
            "_model_module_version": "1.2.0",
            "_model_name": "LayoutModel",
            "_view_count": null,
            "_view_module": "@jupyter-widgets/base",
            "_view_module_version": "1.2.0",
            "_view_name": "LayoutView",
            "align_content": null,
            "align_items": null,
            "align_self": null,
            "border": null,
            "bottom": null,
            "display": null,
            "flex": null,
            "flex_flow": null,
            "grid_area": null,
            "grid_auto_columns": null,
            "grid_auto_flow": null,
            "grid_auto_rows": null,
            "grid_column": null,
            "grid_gap": null,
            "grid_row": null,
            "grid_template_areas": null,
            "grid_template_columns": null,
            "grid_template_rows": null,
            "height": null,
            "justify_content": null,
            "justify_items": null,
            "left": null,
            "margin": null,
            "max_height": null,
            "max_width": null,
            "min_height": null,
            "min_width": null,
            "object_fit": null,
            "object_position": null,
            "order": null,
            "overflow": null,
            "overflow_x": null,
            "overflow_y": null,
            "padding": null,
            "right": null,
            "top": null,
            "visibility": null,
            "width": null
          }
        },
        "ae053c5ce61048e7b3a6a4de797121f7": {
          "model_module": "@jupyter-widgets/base",
          "model_name": "LayoutModel",
          "model_module_version": "1.2.0",
          "state": {
            "_model_module": "@jupyter-widgets/base",
            "_model_module_version": "1.2.0",
            "_model_name": "LayoutModel",
            "_view_count": null,
            "_view_module": "@jupyter-widgets/base",
            "_view_module_version": "1.2.0",
            "_view_name": "LayoutView",
            "align_content": null,
            "align_items": null,
            "align_self": null,
            "border": null,
            "bottom": null,
            "display": null,
            "flex": null,
            "flex_flow": null,
            "grid_area": null,
            "grid_auto_columns": null,
            "grid_auto_flow": null,
            "grid_auto_rows": null,
            "grid_column": null,
            "grid_gap": null,
            "grid_row": null,
            "grid_template_areas": null,
            "grid_template_columns": null,
            "grid_template_rows": null,
            "height": null,
            "justify_content": null,
            "justify_items": null,
            "left": null,
            "margin": null,
            "max_height": null,
            "max_width": null,
            "min_height": null,
            "min_width": null,
            "object_fit": null,
            "object_position": null,
            "order": null,
            "overflow": null,
            "overflow_x": null,
            "overflow_y": null,
            "padding": null,
            "right": null,
            "top": null,
            "visibility": null,
            "width": null
          }
        },
        "fe8c232f15d942e89179aa569f324431": {
          "model_module": "@jupyter-widgets/controls",
          "model_name": "DescriptionStyleModel",
          "model_module_version": "1.5.0",
          "state": {
            "_model_module": "@jupyter-widgets/controls",
            "_model_module_version": "1.5.0",
            "_model_name": "DescriptionStyleModel",
            "_view_count": null,
            "_view_module": "@jupyter-widgets/base",
            "_view_module_version": "1.2.0",
            "_view_name": "StyleView",
            "description_width": ""
          }
        },
        "22bea1c94ad24c50a90c9016b59f847f": {
          "model_module": "@jupyter-widgets/base",
          "model_name": "LayoutModel",
          "model_module_version": "1.2.0",
          "state": {
            "_model_module": "@jupyter-widgets/base",
            "_model_module_version": "1.2.0",
            "_model_name": "LayoutModel",
            "_view_count": null,
            "_view_module": "@jupyter-widgets/base",
            "_view_module_version": "1.2.0",
            "_view_name": "LayoutView",
            "align_content": null,
            "align_items": null,
            "align_self": null,
            "border": null,
            "bottom": null,
            "display": null,
            "flex": null,
            "flex_flow": null,
            "grid_area": null,
            "grid_auto_columns": null,
            "grid_auto_flow": null,
            "grid_auto_rows": null,
            "grid_column": null,
            "grid_gap": null,
            "grid_row": null,
            "grid_template_areas": null,
            "grid_template_columns": null,
            "grid_template_rows": null,
            "height": null,
            "justify_content": null,
            "justify_items": null,
            "left": null,
            "margin": null,
            "max_height": null,
            "max_width": null,
            "min_height": null,
            "min_width": null,
            "object_fit": null,
            "object_position": null,
            "order": null,
            "overflow": null,
            "overflow_x": null,
            "overflow_y": null,
            "padding": null,
            "right": null,
            "top": null,
            "visibility": null,
            "width": null
          }
        },
        "f8b260e77a414b6ca7680d035eb593d3": {
          "model_module": "@jupyter-widgets/controls",
          "model_name": "ProgressStyleModel",
          "model_module_version": "1.5.0",
          "state": {
            "_model_module": "@jupyter-widgets/controls",
            "_model_module_version": "1.5.0",
            "_model_name": "ProgressStyleModel",
            "_view_count": null,
            "_view_module": "@jupyter-widgets/base",
            "_view_module_version": "1.2.0",
            "_view_name": "StyleView",
            "bar_color": null,
            "description_width": ""
          }
        },
        "d3d5781b5c4d46bf86de25ddb6034742": {
          "model_module": "@jupyter-widgets/base",
          "model_name": "LayoutModel",
          "model_module_version": "1.2.0",
          "state": {
            "_model_module": "@jupyter-widgets/base",
            "_model_module_version": "1.2.0",
            "_model_name": "LayoutModel",
            "_view_count": null,
            "_view_module": "@jupyter-widgets/base",
            "_view_module_version": "1.2.0",
            "_view_name": "LayoutView",
            "align_content": null,
            "align_items": null,
            "align_self": null,
            "border": null,
            "bottom": null,
            "display": null,
            "flex": null,
            "flex_flow": null,
            "grid_area": null,
            "grid_auto_columns": null,
            "grid_auto_flow": null,
            "grid_auto_rows": null,
            "grid_column": null,
            "grid_gap": null,
            "grid_row": null,
            "grid_template_areas": null,
            "grid_template_columns": null,
            "grid_template_rows": null,
            "height": null,
            "justify_content": null,
            "justify_items": null,
            "left": null,
            "margin": null,
            "max_height": null,
            "max_width": null,
            "min_height": null,
            "min_width": null,
            "object_fit": null,
            "object_position": null,
            "order": null,
            "overflow": null,
            "overflow_x": null,
            "overflow_y": null,
            "padding": null,
            "right": null,
            "top": null,
            "visibility": null,
            "width": null
          }
        },
        "c023810798ad4d6aaf5b00397f4b9662": {
          "model_module": "@jupyter-widgets/controls",
          "model_name": "DescriptionStyleModel",
          "model_module_version": "1.5.0",
          "state": {
            "_model_module": "@jupyter-widgets/controls",
            "_model_module_version": "1.5.0",
            "_model_name": "DescriptionStyleModel",
            "_view_count": null,
            "_view_module": "@jupyter-widgets/base",
            "_view_module_version": "1.2.0",
            "_view_name": "StyleView",
            "description_width": ""
          }
        },
        "0d19e7744f39474f8400945b3e142d9e": {
          "model_module": "@jupyter-widgets/controls",
          "model_name": "HBoxModel",
          "model_module_version": "1.5.0",
          "state": {
            "_dom_classes": [],
            "_model_module": "@jupyter-widgets/controls",
            "_model_module_version": "1.5.0",
            "_model_name": "HBoxModel",
            "_view_count": null,
            "_view_module": "@jupyter-widgets/controls",
            "_view_module_version": "1.5.0",
            "_view_name": "HBoxView",
            "box_style": "",
            "children": [
              "IPY_MODEL_6a0a079e49b3499c8442c54c2ff450e0",
              "IPY_MODEL_66197be42c0a4ed9ae5b48fe01d9dfdc",
              "IPY_MODEL_041ee62f606546879e138a95db2f41d1"
            ],
            "layout": "IPY_MODEL_c75f52a7d23045f3a750e15df9d99261"
          }
        },
        "6a0a079e49b3499c8442c54c2ff450e0": {
          "model_module": "@jupyter-widgets/controls",
          "model_name": "HTMLModel",
          "model_module_version": "1.5.0",
          "state": {
            "_dom_classes": [],
            "_model_module": "@jupyter-widgets/controls",
            "_model_module_version": "1.5.0",
            "_model_name": "HTMLModel",
            "_view_count": null,
            "_view_module": "@jupyter-widgets/controls",
            "_view_module_version": "1.5.0",
            "_view_name": "HTMLView",
            "description": "",
            "description_tooltip": null,
            "layout": "IPY_MODEL_d78cb668754a485bb777e4b49b755a19",
            "placeholder": "​",
            "style": "IPY_MODEL_e5de5253e02f429db9758a1cf153245c",
            "value": "Downloading pytorch_model.bin: 100%"
          }
        },
        "66197be42c0a4ed9ae5b48fe01d9dfdc": {
          "model_module": "@jupyter-widgets/controls",
          "model_name": "FloatProgressModel",
          "model_module_version": "1.5.0",
          "state": {
            "_dom_classes": [],
            "_model_module": "@jupyter-widgets/controls",
            "_model_module_version": "1.5.0",
            "_model_name": "FloatProgressModel",
            "_view_count": null,
            "_view_module": "@jupyter-widgets/controls",
            "_view_module_version": "1.5.0",
            "_view_name": "ProgressView",
            "bar_style": "success",
            "description": "",
            "description_tooltip": null,
            "layout": "IPY_MODEL_21aefbdec33e4468a7c89bc3bc91af56",
            "max": 377667514,
            "min": 0,
            "orientation": "horizontal",
            "style": "IPY_MODEL_ef27db3ab3854a2f97aae6412bb53dfb",
            "value": 377667514
          }
        },
        "041ee62f606546879e138a95db2f41d1": {
          "model_module": "@jupyter-widgets/controls",
          "model_name": "HTMLModel",
          "model_module_version": "1.5.0",
          "state": {
            "_dom_classes": [],
            "_model_module": "@jupyter-widgets/controls",
            "_model_module_version": "1.5.0",
            "_model_name": "HTMLModel",
            "_view_count": null,
            "_view_module": "@jupyter-widgets/controls",
            "_view_module_version": "1.5.0",
            "_view_name": "HTMLView",
            "description": "",
            "description_tooltip": null,
            "layout": "IPY_MODEL_d2080a0ad17d4763ae4da8e63f525bf6",
            "placeholder": "​",
            "style": "IPY_MODEL_0c1a967b1cb5420caf8600ab9964de51",
            "value": " 360M/360M [00:17&lt;00:00, 47.8MB/s]"
          }
        },
        "c75f52a7d23045f3a750e15df9d99261": {
          "model_module": "@jupyter-widgets/base",
          "model_name": "LayoutModel",
          "model_module_version": "1.2.0",
          "state": {
            "_model_module": "@jupyter-widgets/base",
            "_model_module_version": "1.2.0",
            "_model_name": "LayoutModel",
            "_view_count": null,
            "_view_module": "@jupyter-widgets/base",
            "_view_module_version": "1.2.0",
            "_view_name": "LayoutView",
            "align_content": null,
            "align_items": null,
            "align_self": null,
            "border": null,
            "bottom": null,
            "display": null,
            "flex": null,
            "flex_flow": null,
            "grid_area": null,
            "grid_auto_columns": null,
            "grid_auto_flow": null,
            "grid_auto_rows": null,
            "grid_column": null,
            "grid_gap": null,
            "grid_row": null,
            "grid_template_areas": null,
            "grid_template_columns": null,
            "grid_template_rows": null,
            "height": null,
            "justify_content": null,
            "justify_items": null,
            "left": null,
            "margin": null,
            "max_height": null,
            "max_width": null,
            "min_height": null,
            "min_width": null,
            "object_fit": null,
            "object_position": null,
            "order": null,
            "overflow": null,
            "overflow_x": null,
            "overflow_y": null,
            "padding": null,
            "right": null,
            "top": null,
            "visibility": null,
            "width": null
          }
        },
        "d78cb668754a485bb777e4b49b755a19": {
          "model_module": "@jupyter-widgets/base",
          "model_name": "LayoutModel",
          "model_module_version": "1.2.0",
          "state": {
            "_model_module": "@jupyter-widgets/base",
            "_model_module_version": "1.2.0",
            "_model_name": "LayoutModel",
            "_view_count": null,
            "_view_module": "@jupyter-widgets/base",
            "_view_module_version": "1.2.0",
            "_view_name": "LayoutView",
            "align_content": null,
            "align_items": null,
            "align_self": null,
            "border": null,
            "bottom": null,
            "display": null,
            "flex": null,
            "flex_flow": null,
            "grid_area": null,
            "grid_auto_columns": null,
            "grid_auto_flow": null,
            "grid_auto_rows": null,
            "grid_column": null,
            "grid_gap": null,
            "grid_row": null,
            "grid_template_areas": null,
            "grid_template_columns": null,
            "grid_template_rows": null,
            "height": null,
            "justify_content": null,
            "justify_items": null,
            "left": null,
            "margin": null,
            "max_height": null,
            "max_width": null,
            "min_height": null,
            "min_width": null,
            "object_fit": null,
            "object_position": null,
            "order": null,
            "overflow": null,
            "overflow_x": null,
            "overflow_y": null,
            "padding": null,
            "right": null,
            "top": null,
            "visibility": null,
            "width": null
          }
        },
        "e5de5253e02f429db9758a1cf153245c": {
          "model_module": "@jupyter-widgets/controls",
          "model_name": "DescriptionStyleModel",
          "model_module_version": "1.5.0",
          "state": {
            "_model_module": "@jupyter-widgets/controls",
            "_model_module_version": "1.5.0",
            "_model_name": "DescriptionStyleModel",
            "_view_count": null,
            "_view_module": "@jupyter-widgets/base",
            "_view_module_version": "1.2.0",
            "_view_name": "StyleView",
            "description_width": ""
          }
        },
        "21aefbdec33e4468a7c89bc3bc91af56": {
          "model_module": "@jupyter-widgets/base",
          "model_name": "LayoutModel",
          "model_module_version": "1.2.0",
          "state": {
            "_model_module": "@jupyter-widgets/base",
            "_model_module_version": "1.2.0",
            "_model_name": "LayoutModel",
            "_view_count": null,
            "_view_module": "@jupyter-widgets/base",
            "_view_module_version": "1.2.0",
            "_view_name": "LayoutView",
            "align_content": null,
            "align_items": null,
            "align_self": null,
            "border": null,
            "bottom": null,
            "display": null,
            "flex": null,
            "flex_flow": null,
            "grid_area": null,
            "grid_auto_columns": null,
            "grid_auto_flow": null,
            "grid_auto_rows": null,
            "grid_column": null,
            "grid_gap": null,
            "grid_row": null,
            "grid_template_areas": null,
            "grid_template_columns": null,
            "grid_template_rows": null,
            "height": null,
            "justify_content": null,
            "justify_items": null,
            "left": null,
            "margin": null,
            "max_height": null,
            "max_width": null,
            "min_height": null,
            "min_width": null,
            "object_fit": null,
            "object_position": null,
            "order": null,
            "overflow": null,
            "overflow_x": null,
            "overflow_y": null,
            "padding": null,
            "right": null,
            "top": null,
            "visibility": null,
            "width": null
          }
        },
        "ef27db3ab3854a2f97aae6412bb53dfb": {
          "model_module": "@jupyter-widgets/controls",
          "model_name": "ProgressStyleModel",
          "model_module_version": "1.5.0",
          "state": {
            "_model_module": "@jupyter-widgets/controls",
            "_model_module_version": "1.5.0",
            "_model_name": "ProgressStyleModel",
            "_view_count": null,
            "_view_module": "@jupyter-widgets/base",
            "_view_module_version": "1.2.0",
            "_view_name": "StyleView",
            "bar_color": null,
            "description_width": ""
          }
        },
        "d2080a0ad17d4763ae4da8e63f525bf6": {
          "model_module": "@jupyter-widgets/base",
          "model_name": "LayoutModel",
          "model_module_version": "1.2.0",
          "state": {
            "_model_module": "@jupyter-widgets/base",
            "_model_module_version": "1.2.0",
            "_model_name": "LayoutModel",
            "_view_count": null,
            "_view_module": "@jupyter-widgets/base",
            "_view_module_version": "1.2.0",
            "_view_name": "LayoutView",
            "align_content": null,
            "align_items": null,
            "align_self": null,
            "border": null,
            "bottom": null,
            "display": null,
            "flex": null,
            "flex_flow": null,
            "grid_area": null,
            "grid_auto_columns": null,
            "grid_auto_flow": null,
            "grid_auto_rows": null,
            "grid_column": null,
            "grid_gap": null,
            "grid_row": null,
            "grid_template_areas": null,
            "grid_template_columns": null,
            "grid_template_rows": null,
            "height": null,
            "justify_content": null,
            "justify_items": null,
            "left": null,
            "margin": null,
            "max_height": null,
            "max_width": null,
            "min_height": null,
            "min_width": null,
            "object_fit": null,
            "object_position": null,
            "order": null,
            "overflow": null,
            "overflow_x": null,
            "overflow_y": null,
            "padding": null,
            "right": null,
            "top": null,
            "visibility": null,
            "width": null
          }
        },
        "0c1a967b1cb5420caf8600ab9964de51": {
          "model_module": "@jupyter-widgets/controls",
          "model_name": "DescriptionStyleModel",
          "model_module_version": "1.5.0",
          "state": {
            "_model_module": "@jupyter-widgets/controls",
            "_model_module_version": "1.5.0",
            "_model_name": "DescriptionStyleModel",
            "_view_count": null,
            "_view_module": "@jupyter-widgets/base",
            "_view_module_version": "1.2.0",
            "_view_name": "StyleView",
            "description_width": ""
          }
        }
      }
    }
  },
  "nbformat": 4,
  "nbformat_minor": 5
}