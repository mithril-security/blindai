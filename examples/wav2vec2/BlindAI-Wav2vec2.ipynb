{
 "cells": [
  {
   "cell_type": "markdown",
   "id": "463e6024",
   "metadata": {},
   "source": [
    "# About this example\n",
    "\n",
    "This example shows how you can run a Wav2Vec2 model to perform Speech-To-Text with confidentiality guarantees. \n",
    "\n",
    "By using BlindAI, people can send data for the AI to analyze their conversations without having to fear privacy leaks.\n",
    "\n",
    "Wav2Vec2 is a state-of-the art Transformers model for speech. You can learn more about it on [FAIR blog's post](https://ai.facebook.com/blog/wav2vec-20-learning-the-structure-of-speech-from-raw-audio/)."
   ]
  },
  {
   "cell_type": "markdown",
   "id": "3962be97",
   "metadata": {},
   "source": [
    "# Installing dependencies"
   ]
  },
  {
   "cell_type": "markdown",
   "id": "cbda973b",
   "metadata": {},
   "source": [
    "Install the dependencies this example needs."
   ]
  },
  {
   "cell_type": "code",
   "execution_count": 1,
   "id": "e78255e4",
   "metadata": {},
   "outputs": [
    {
     "name": "stdout",
     "output_type": "stream",
     "text": []
    }
   ],
   "source": [
    "!pip install -q transformers[onnx] torch"
   ]
  },
  {
   "cell_type": "markdown",
   "id": "093a9236",
   "metadata": {},
   "source": [
    "We will need `librosa` to load the \"hello world\" audio file. You might need to downgrade `numpy` to 1.21 to make it work. The following commands should do the trick to install `librosa`:"
   ]
  },
  {
   "cell_type": "code",
   "execution_count": 2,
   "id": "dfb1c5ed",
   "metadata": {},
   "outputs": [
    {
     "name": "stdout",
     "output_type": "stream",
     "text": []
    }
   ],
   "source": [
    "!pip install -q --upgrade numpy==1.21\n",
    "!pip install -q librosa"
   ]
  },
  {
   "cell_type": "markdown",
   "id": "406ea52f",
   "metadata": {},
   "source": [
    "In addition, you might need to install `ffmpeg` to have a backend to process the wav file."
   ]
  },
  {
   "cell_type": "code",
   "execution_count": 3,
   "id": "71d2990a",
   "metadata": {},
   "outputs": [
    {
     "name": "stdout",
     "output_type": "stream",
     "text": []
    }
   ],
   "source": [
    "!sudo apt-get install -y ffmpeg"
   ]
  },
  {
   "cell_type": "markdown",
   "id": "8bd99a83",
   "metadata": {},
   "source": [
    "Install the latest version of BlindAI."
   ]
  },
  {
   "cell_type": "code",
   "execution_count": 4,
   "id": "02339f36",
   "metadata": {},
   "outputs": [
    {
     "name": "stdout",
     "output_type": "stream",
     "text": []
    }
   ],
   "source": [
    "!pip install blindai"
   ]
  },
  {
   "cell_type": "markdown",
   "id": "2efa298c",
   "metadata": {},
   "source": [
    "# Preparing the model"
   ]
  },
  {
   "cell_type": "markdown",
   "id": "61d0fefd",
   "metadata": {},
   "source": [
    "Here we will use a large Wav2Vec2 model. First step is to get the model and tokenizers."
   ]
  },
  {
   "cell_type": "code",
   "execution_count": 5,
   "id": "9916dcca",
   "metadata": {},
   "outputs": [
    {
     "name": "stderr",
     "output_type": "stream",
     "text": [
      "Some weights of Wav2Vec2ForCTC were not initialized from the model checkpoint at facebook/wav2vec2-base-960h and are newly initialized: ['wav2vec2.masked_spec_embed']\n",
      "You should probably TRAIN this model on a down-stream task to be able to use it for predictions and inference.\n"
     ]
    }
   ],
   "source": [
    "from transformers import Wav2Vec2Processor, Wav2Vec2ForCTC\n",
    "import torch\n",
    "\n",
    "# load model and processor\n",
    "processor = Wav2Vec2Processor.from_pretrained(\"facebook/wav2vec2-base-960h\")\n",
    "model = Wav2Vec2ForCTC.from_pretrained(\"facebook/wav2vec2-base-960h\")"
   ]
  },
  {
   "cell_type": "markdown",
   "id": "8b057a31",
   "metadata": {},
   "source": [
    "We can download an hello world audio file to be used as example. Let's download it."
   ]
  },
  {
   "cell_type": "code",
   "execution_count": 6,
   "id": "b1374d23",
   "metadata": {},
   "outputs": [
    {
     "name": "stdout",
     "output_type": "stream",
     "text": []
    }
   ],
   "source": [
    "!wget https://github.com/mithril-security/blindai/raw/master/examples/wav2vec2/hello_world.wav"
   ]
  },
  {
   "cell_type": "markdown",
   "id": "b032cd2f",
   "metadata": {},
   "source": [
    "We can hear it here:"
   ]
  },
  {
   "cell_type": "code",
   "execution_count": 7,
   "id": "d460db55",
   "metadata": {},
   "outputs": [
    {
     "data": {
      "text/html": [
       "\n",
       "                <audio  controls=\"controls\" >\n",
       "                    <source src=\"data:audio/x-wav;base64,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\" type=\"audio/x-wav\" />\n",
       "                    Your browser does not support the audio element.\n",
       "                </audio>\n",
       "              "
      ],
      "text/plain": [
       "<IPython.lib.display.Audio object>"
      ]
     },
     "execution_count": 7,
     "metadata": {},
     "output_type": "execute_result"
    }
   ],
   "source": [
    "import IPython.display as ipd\n",
    "ipd.Audio('hello_world.wav')"
   ]
  },
  {
   "cell_type": "markdown",
   "id": "6af05eb7",
   "metadata": {},
   "source": [
    "We can then see the Wav2vec2 model in action on the hello world file."
   ]
  },
  {
   "cell_type": "code",
   "execution_count": 8,
   "id": "cdbd3a1b",
   "metadata": {},
   "outputs": [
    {
     "name": "stdout",
     "output_type": "stream",
     "text": [
      "['HELLO WORLD']\n"
     ]
    }
   ],
   "source": [
    "import librosa\n",
    "\n",
    "audio, rate = librosa.load(\"hello_world.wav\", sr = 16000)\n",
    "\n",
    "# Tokenize sampled audio to input into model\n",
    "input_values = processor(audio, sampling_rate=rate, return_tensors=\"pt\", padding=\"longest\").input_values\n",
    "\n",
    "# Retrieve logits\n",
    "logits = model(input_values).logits\n",
    "\n",
    "# Take argmax and decode\n",
    "predicted_ids = torch.argmax(logits, dim=-1)\n",
    "transcription = processor.batch_decode(predicted_ids)\n",
    "print(transcription)"
   ]
  },
  {
   "cell_type": "markdown",
   "id": "15a6a94b",
   "metadata": {},
   "source": [
    "In order to facilitate the deployment, we will add the post processing directly to the full model. This way the client will not have to do the post processing."
   ]
  },
  {
   "cell_type": "code",
   "execution_count": 9,
   "id": "1bc89a60",
   "metadata": {},
   "outputs": [],
   "source": [
    "import torch.nn as nn\n",
    "\n",
    "# Let's embed the post-processing phase with argmax inside our model\n",
    "class ArgmaxLayer(nn.Module):\n",
    "    def __init__(self):\n",
    "        super(ArgmaxLayer, self).__init__()\n",
    "\n",
    "    def forward(self, outputs):\n",
    "        return torch.argmax(outputs.logits, dim = -1)"
   ]
  },
  {
   "cell_type": "code",
   "execution_count": 10,
   "id": "5c98de98",
   "metadata": {},
   "outputs": [],
   "source": [
    "final_layer = ArgmaxLayer()\n",
    "\n",
    "# Finally we concatenate everything\n",
    "full_model = nn.Sequential(model, final_layer)"
   ]
  },
  {
   "cell_type": "markdown",
   "id": "195cf33c",
   "metadata": {},
   "source": [
    "We can check the results are the same."
   ]
  },
  {
   "cell_type": "code",
   "execution_count": 11,
   "id": "72e24a25",
   "metadata": {},
   "outputs": [
    {
     "data": {
      "text/plain": [
       "['HELLO WORLD']"
      ]
     },
     "execution_count": 11,
     "metadata": {},
     "output_type": "execute_result"
    }
   ],
   "source": [
    "predicted_ids = full_model(input_values)\n",
    "transcription = processor.batch_decode(predicted_ids)\n",
    "transcription"
   ]
  },
  {
   "cell_type": "markdown",
   "id": "31eccfed",
   "metadata": {},
   "source": [
    "Now we can export the model in ONNX format, so that we can feed later the ONNX to our BlindAI server."
   ]
  },
  {
   "cell_type": "code",
   "execution_count": 12,
   "id": "00bd9841",
   "metadata": {},
   "outputs": [],
   "source": [
    "torch.onnx.export(\n",
    "    full_model,\n",
    "    input_values,\n",
    "    'wav2vec2_hello_world.onnx',\n",
    "    export_params=True,\n",
    "     opset_version = 11)"
   ]
  },
  {
   "cell_type": "markdown",
   "id": "8919ccb5",
   "metadata": {},
   "source": [
    "# Deployment on BlindAI"
   ]
  },
  {
   "cell_type": "markdown",
   "id": "ed2366fb",
   "metadata": {},
   "source": [
    "Please make sure the **server is running**. To launch the server, refer to the [Launching the server](https://docs.mithrilsecurity.io/getting-started/quick-start/run-the-blindai-server) documentation page. \n",
    "\n",
    "If you have followed the steps and have the Docker image ready, this mean you simply have to run `docker run -it -p 50051:50051 -p 50052:50052 mithrilsecuritysas/blindai-server-sim:latest`"
   ]
  },
  {
   "cell_type": "markdown",
   "id": "80fc49a9",
   "metadata": {},
   "source": [
    "So the first thing we need to do is to connect securely to the BlindAI server instance. Here we will use simulation mode for ease of use. This means that we do not leverage the hardware security propertiers of secure enclaves, but we do not need to run the Docker image with a specific hardware.\n",
    "\n",
    "If you wish to run this example in hardware mode, you need to prepare the `host_server.pem` and `policy.toml` files. Learn more on the [Deploy on Hardware](https://docs.mithrilsecurity.io/getting-started/deploy-on-hardware) documentation page. "
   ]
  },
  {
   "cell_type": "code",
   "execution_count": 13,
   "id": "155ddc68",
   "metadata": {},
   "outputs": [
    {
     "name": "stderr",
     "output_type": "stream",
     "text": [
      "WARNING:root:Untrusted server certificate check bypassed\n",
      "WARNING:root:Attestation process is bypassed: running without requesting and checking attestation\n"
     ]
    }
   ],
   "source": [
    "from blindai.client import BlindAiClient, ModelDatumType\n",
    "\n",
    "# Launch client\n",
    "client = BlindAiClient()\n",
    "\n",
    "# Simulation mode\n",
    "client.connect_server(addr=\"localhost\", simulation=True)\n",
    "\n",
    "# Hardware mode\n",
    "# client.connect_server(addr=\"localhost\", policy=\"./policy.toml\", certificate=\"./host_server.pem\")"
   ]
  },
  {
   "cell_type": "markdown",
   "id": "889d5725",
   "metadata": {},
   "source": [
    "Then, upload the model inside the BlindAI server. This simply means uploading the ONNX file created before.\n",
    "\n",
    "When uploading the model, we have to precise the shape of the input and the data type. \n",
    "\n",
    "In this case, because we use a Wav2vec2 model, we will need to send floats for the audio file. By default BlindAI outputs floats, but in this case we need tokens so we have to precise that we expect integers as outputs."
   ]
  },
  {
   "cell_type": "code",
   "execution_count": 14,
   "id": "48f605f7",
   "metadata": {},
   "outputs": [
    {
     "name": "stderr",
     "output_type": "stream",
     "text": [
      "WARNING:root:Untrusted server certificate check bypassed\n",
      "WARNING:root:Attestation process is bypassed: running without requesting and checking attestation\n"
     ]
    },
    {
     "data": {
      "text/plain": [
       "<blindai.client.UploadModelResponse at 0x7fc89aee8e20>"
      ]
     },
     "execution_count": 14,
     "metadata": {},
     "output_type": "execute_result"
    }
   ],
   "source": [
    "client.upload_model(model=\"./wav2vec2_hello_world.onnx\", shape=input_values.shape, \n",
    "                    dtype=ModelDatumType.F32, dtype_out=ModelDatumType.I64)"
   ]
  },
  {
   "cell_type": "markdown",
   "id": "501791e6",
   "metadata": {},
   "source": [
    "# Sending data for confidential prediction"
   ]
  },
  {
   "cell_type": "markdown",
   "id": "a3896eb0",
   "metadata": {},
   "source": [
    "Now it's time to check it's working live!\n",
    "\n",
    "We will just prepare some input for the model inside the secure enclave of BlindAI to process it."
   ]
  },
  {
   "cell_type": "markdown",
   "id": "a56eb415",
   "metadata": {},
   "source": [
    "First we prepare our input data, the hello world audio file."
   ]
  },
  {
   "cell_type": "code",
   "execution_count": 15,
   "id": "15799bf0",
   "metadata": {},
   "outputs": [],
   "source": [
    "from transformers import Wav2Vec2Processor, Wav2Vec2ForCTC\n",
    "import torch\n",
    "import librosa\n",
    "\n",
    "# load model and processor\n",
    "processor = Wav2Vec2Processor.from_pretrained(\"facebook/wav2vec2-base-960h\")\n",
    "\n",
    "audio, rate = librosa.load(\"hello_world.wav\", sr = 16000)\n",
    "\n",
    "# Tokenize sampled audio to input into model\n",
    "input_values = processor(audio, sampling_rate=rate, return_tensors=\"pt\", padding=\"longest\").input_values"
   ]
  },
  {
   "cell_type": "markdown",
   "id": "cb73769b",
   "metadata": {},
   "source": [
    "Now we can send the audio data to be processed confidentially!"
   ]
  },
  {
   "cell_type": "code",
   "execution_count": 16,
   "id": "5b48baf1",
   "metadata": {},
   "outputs": [],
   "source": [
    "response = client.run_model(input_values.flatten().tolist())"
   ]
  },
  {
   "cell_type": "markdown",
   "id": "0d89dce4",
   "metadata": {},
   "source": [
    "We can reconstruct the output now:"
   ]
  },
  {
   "cell_type": "code",
   "execution_count": 17,
   "id": "24cf9d49",
   "metadata": {},
   "outputs": [
    {
     "name": "stdout",
     "output_type": "stream",
     "text": [
      "['HELLO WORLD']\n"
     ]
    }
   ],
   "source": [
    "# Decode the output\n",
    "print(processor.batch_decode(torch.tensor(response.output).unsqueeze(0)))"
   ]
  },
  {
   "cell_type": "markdown",
   "id": "d8bfb924",
   "metadata": {},
   "source": [
    "Et voila! We have been able to apply a start of the art model of speech recognition, without ever having to show the data in clear to the people operating the service!\n",
    "\n",
    "If you have liked this example, do not hesitate to drop a star on our [GitHub](https://github.com/mithril-security/blindai) and chat with us on our [Discord](https://discord.gg/TxEHagpWd4)!"
   ]
  }
 ],
 "metadata": {
  "kernelspec": {
   "display_name": "Python 3 (ipykernel)",
   "language": "python",
   "name": "python3"
  },
  "language_info": {
   "codemirror_mode": {
    "name": "ipython",
    "version": 3
   },
   "file_extension": ".py",
   "mimetype": "text/x-python",
   "name": "python",
   "nbconvert_exporter": "python",
   "pygments_lexer": "ipython3",
   "version": "3.9.12"
  }
 },
 "nbformat": 4,
 "nbformat_minor": 5
}
