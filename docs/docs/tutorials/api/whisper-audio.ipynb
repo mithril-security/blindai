{
 "cells": [
  {
   "attachments": {},
   "cell_type": "markdown",
   "metadata": {},
   "source": [
    "# Whisper Integration\n",
    "_______________________________________________\n",
    "\n",
    "Speech recognition has become a crucial aspect of our everyday lives because to technological advancements, from virtual assistants like Siri and Alexa to transcribing services used in business and academics. Whisper is a state-of-the-art voice recognition API that takes advantage of the most recent developments in AI and machine learning to offer extremely accurate and effective transcription services.\n",
    "\n",
    "In this tutorial, we will explore the Whisper transcribe API and learn how to integrate it into our applications. We will cover the basics of authentication, setting up a project, and making API requests to transcribe audio files in various formats. Additionally, we will also explore some advanced features of the API, such as speaker diarization and custom language models."
   ]
  },
  {
   "attachments": {},
   "cell_type": "markdown",
   "metadata": {},
   "source": [
    "## Pre-requisites\n",
    "________________________________________________________\n",
    "\n",
    "Before we begin, you will need to install these Python libraries:\n",
    "\n",
    "- [blindai](https://pypi.org/project/blindai/)\n",
    "- [gdown](https://pypi.org/project/gdown/)\n",
    "- [Test Audio File](https://github.com/openai/whisper/raw/main/tests/jfk.flac)"
   ]
  },
  {
   "cell_type": "code",
   "execution_count": 1,
   "metadata": {},
   "outputs": [
    {
     "name": "stdout",
     "output_type": "stream",
     "text": [
      "Collecting blindai-preview-server\n",
      "  Downloading blindai_preview_server-0.0.6-py3-none-manylinux2014_x86_64.whl (4.3 kB)\n",
      "Installing collected packages: blindai-preview-server\n",
      "Successfully installed blindai-preview-server-0.0.6\n",
      "Requirement already satisfied: gdown in /home/vscode/.cache/pypoetry/virtualenvs/blindai-preview-7Yaoi9am-py3.8/lib/python3.8/site-packages (4.6.4)\n",
      "Requirement already satisfied: six in /home/vscode/.cache/pypoetry/virtualenvs/blindai-preview-7Yaoi9am-py3.8/lib/python3.8/site-packages (from gdown) (1.16.0)\n",
      "Requirement already satisfied: requests[socks] in /home/vscode/.cache/pypoetry/virtualenvs/blindai-preview-7Yaoi9am-py3.8/lib/python3.8/site-packages (from gdown) (2.28.2)\n",
      "Requirement already satisfied: beautifulsoup4 in /home/vscode/.cache/pypoetry/virtualenvs/blindai-preview-7Yaoi9am-py3.8/lib/python3.8/site-packages (from gdown) (4.11.2)\n",
      "Requirement already satisfied: filelock in /home/vscode/.cache/pypoetry/virtualenvs/blindai-preview-7Yaoi9am-py3.8/lib/python3.8/site-packages (from gdown) (3.9.0)\n",
      "Requirement already satisfied: tqdm in /home/vscode/.cache/pypoetry/virtualenvs/blindai-preview-7Yaoi9am-py3.8/lib/python3.8/site-packages (from gdown) (4.65.0)\n",
      "Requirement already satisfied: soupsieve>1.2 in /home/vscode/.cache/pypoetry/virtualenvs/blindai-preview-7Yaoi9am-py3.8/lib/python3.8/site-packages (from beautifulsoup4->gdown) (2.4)\n",
      "Requirement already satisfied: charset-normalizer<4,>=2 in /home/vscode/.cache/pypoetry/virtualenvs/blindai-preview-7Yaoi9am-py3.8/lib/python3.8/site-packages (from requests[socks]->gdown) (3.1.0)\n",
      "Requirement already satisfied: urllib3<1.27,>=1.21.1 in /home/vscode/.cache/pypoetry/virtualenvs/blindai-preview-7Yaoi9am-py3.8/lib/python3.8/site-packages (from requests[socks]->gdown) (1.26.15)\n",
      "Requirement already satisfied: idna<4,>=2.5 in /home/vscode/.cache/pypoetry/virtualenvs/blindai-preview-7Yaoi9am-py3.8/lib/python3.8/site-packages (from requests[socks]->gdown) (3.4)\n",
      "Requirement already satisfied: certifi>=2017.4.17 in /home/vscode/.cache/pypoetry/virtualenvs/blindai-preview-7Yaoi9am-py3.8/lib/python3.8/site-packages (from requests[socks]->gdown) (2022.12.7)\n",
      "Requirement already satisfied: PySocks!=1.5.7,>=1.5.6 in /home/vscode/.cache/pypoetry/virtualenvs/blindai-preview-7Yaoi9am-py3.8/lib/python3.8/site-packages (from requests[socks]->gdown) (1.7.1)\n",
      "--2023-03-14 16:17:29--  https://www2.cs.uic.edu/~i101/SoundFiles/taunt.wav\n",
      "Resolving www2.cs.uic.edu (www2.cs.uic.edu)... 131.193.32.16\n",
      "Connecting to www2.cs.uic.edu (www2.cs.uic.edu)|131.193.32.16|:443... connected.\n",
      "HTTP request sent, awaiting response... 200 OK\n",
      "Length: 91284 (89K) [audio/x-wav]\n",
      "Saving to: ‘taunt.wav’\n",
      "\n",
      "taunt.wav           100%[===================>]  89.14K  --.-KB/s    in 0.07s   \n",
      "\n",
      "2023-03-14 16:17:29 (1.22 MB/s) - ‘taunt.wav’ saved [91284/91284]\n",
      "\n"
     ]
    }
   ],
   "source": [
    "# Install the BlindAi Preview Client Library using `poetry install`\n",
    "!pip install blindai-server\n",
    "!pip install gdown\n",
    "\n",
    "# Download the taunt audio file from CS 101 at UIC and save it as `taunt.wav`\n",
    "!wget https://www2.cs.uic.edu/~i101/SoundFiles/taunt.wav -O taunt.wav"
   ]
  },
  {
   "attachments": {},
   "cell_type": "markdown",
   "metadata": {},
   "source": [
    "## Transcribing Audio\n",
    "______________________________________________\n",
    "\n",
    "BlindAI internally handles connection to the managed cloud solution which has an instance of the BlindAI server running.\n",
    "\n",
    "By default, our server is running in an Intel Software Guard Extensions (SGX) trusted execution environment (TEE). If you wish to use a different TEE, you can change it in the `tee` parameter of the `transcribe` method..\n",
    "\n",
    "> Note that if you wish not to connect to our managed cloud solution, you can pass a well-created `BlindAiConnection` client object and pass it to the connection instance of the `transcribe` method."
   ]
  },
  {
   "cell_type": "code",
   "execution_count": 4,
   "metadata": {},
   "outputs": [
    {
     "name": "stderr",
     "output_type": "stream",
     "text": [
      "Downloading...\n",
      "From: https://drive.google.com/uc?id=1wqg1F0UkEdm3KB7n1BjfRLHnzKU2-G5S\n",
      "To: /workspaces/blindai-preview/docs/docs/how-to-guides/fake-whisper-model.onnx\n",
      "100%|██████████| 233M/233M [00:04<00:00, 56.9MB/s] \n"
     ]
    }
   ],
   "source": [
    "transcript = blindai.api.Audio.transcribe(\n",
    "    file=\"taunt.wav\"\n",
    ")"
   ]
  },
  {
   "attachments": {},
   "cell_type": "markdown",
   "metadata": {},
   "source": [
    "The transcript returned by the API will be stored in the `transcript` variable.\n",
    "\n",
    "And it contains the text of the audio file."
   ]
  },
  {
   "cell_type": "code",
   "execution_count": 5,
   "metadata": {},
   "outputs": [
    {
     "name": "stdout",
     "output_type": "stream",
     "text": [
      "[' Now go away, or I shall taunt you a second timer!']\n"
     ]
    }
   ],
   "source": [
    "print(transcript)"
   ]
  }
 ],
 "metadata": {
  "kernelspec": {
   "display_name": "blindai-preview-7Yaoi9am-py3.8",
   "language": "python",
   "name": "python3"
  },
  "language_info": {
   "codemirror_mode": {
    "name": "ipython",
    "version": 3
   },
   "file_extension": ".py",
   "mimetype": "text/x-python",
   "name": "python",
   "nbconvert_exporter": "python",
   "pygments_lexer": "ipython3",
   "version": "3.8.10"
  },
  "orig_nbformat": 4
 },
 "nbformat": 4,
 "nbformat_minor": 2
}
